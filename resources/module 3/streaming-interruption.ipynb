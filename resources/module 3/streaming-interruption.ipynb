{
 "cells": [
  {
   "cell_type": "markdown",
   "id": "0c9e547f",
   "metadata": {},
   "source": [
    "[![Open in Colab](https://colab.research.google.com/assets/colab-badge.svg)](https://colab.research.google.com/github/langchain-ai/langchain-academy/blob/main/module-3/streaming-interruption.ipynb) [![Open in LangChain Academy](https://cdn.prod.website-files.com/65b8cd72835ceeacd4449a53/66e9eba12c7b7688aa3dbb5e_LCA-badge-green.svg)](https://academy.langchain.com/courses/take/intro-to-langgraph/lessons/58239464-lesson-1-streaming)"
   ]
  },
  {
   "cell_type": "markdown",
   "id": "319adfec-2d0a-49f2-87f9-275c4a32add2",
   "metadata": {},
   "source": [
    "# Streaming\n",
    "\n",
    "## Review\n",
    "\n",
    "In module 2, covered a few ways to customize graph state and memory.\n",
    " \n",
    "We built up to a Chatbot with external memory that can sustain long-running conversations. \n",
    "\n",
    "## Goals\n",
    "\n",
    "This module will dive into `human-in-the-loop`, which builds on memory and allows users to interact directly with graphs in various ways. \n",
    "\n",
    "To set the stage for `human-in-the-loop`, we'll first dive into streaming, which provides several ways to visualize graph output (e.g., node state or chat model tokens) over the course of execution."
   ]
  },
  {
   "cell_type": "code",
   "id": "db024d1f-feb3-45a0-a55c-e7712a1feefa",
   "metadata": {
    "ExecuteTime": {
     "end_time": "2025-10-27T15:02:53.172418Z",
     "start_time": "2025-10-27T15:02:52.562236Z"
    }
   },
   "source": [
    "%%capture --no-stderr\n",
    "%pip install --quiet -U langgraph langchain_openai langgraph_sdk"
   ],
   "outputs": [],
   "execution_count": 54
  },
  {
   "cell_type": "markdown",
   "id": "70d7e41b-c6ba-4e47-b645-6c110bede549",
   "metadata": {},
   "source": [
    "## Streaming\n",
    "\n",
    "LangGraph is built with [first class support for streaming](https://langchain-ai.github.io/langgraph/concepts/low_level/#streaming).\n",
    "\n",
    "Let's set up our Chatbot from Module 2, and show various way to stream outputs from the graph during execution. "
   ]
  },
  {
   "cell_type": "code",
   "id": "5b430d92-f595-4322-a56e-06de7485daa8",
   "metadata": {
    "ExecuteTime": {
     "end_time": "2025-10-27T15:02:53.178955Z",
     "start_time": "2025-10-27T15:02:53.176864Z"
    }
   },
   "source": [
    "import os, getpass\n",
    "\n",
    "def _set_env(var: str):\n",
    "    if not os.environ.get(var):\n",
    "        os.environ[var] = getpass.getpass(f\"{var}: \")\n",
    "\n",
    "_set_env(\"ANTHROPIC_API_KEY\")\n"
   ],
   "outputs": [],
   "execution_count": 55
  },
  {
   "metadata": {
    "ExecuteTime": {
     "end_time": "2025-10-27T15:02:53.187892Z",
     "start_time": "2025-10-27T15:02:53.184725Z"
    }
   },
   "cell_type": "code",
   "source": [
    "from dotenv import load_dotenv\n",
    "load_dotenv('studio/.env')"
   ],
   "id": "e2323abb5ca961f0",
   "outputs": [
    {
     "data": {
      "text/plain": [
       "True"
      ]
     },
     "execution_count": 56,
     "metadata": {},
     "output_type": "execute_result"
    }
   ],
   "execution_count": 56
  },
  {
   "cell_type": "markdown",
   "id": "4d0682fc",
   "metadata": {},
   "source": [
    "Note that we use `RunnableConfig` with `call_model` to enable token-wise streaming. This is [only needed with python < 3.11](https://langchain-ai.github.io/langgraph/how-tos/streaming-tokens/). We include in case you are running this notebook in CoLab, which will use python 3.x. "
   ]
  },
  {
   "cell_type": "code",
   "id": "2d7321e0-0d99-4efe-a67b-74c12271859b",
   "metadata": {
    "ExecuteTime": {
     "end_time": "2025-10-27T15:02:53.272758Z",
     "start_time": "2025-10-27T15:02:53.195055Z"
    }
   },
   "source": [
    "from IPython.display import Image, display\n",
    "from typing import Literal\n",
    "\n",
    "from langchain_anthropic import ChatAnthropic\n",
    "from langchain_core.messages import SystemMessage, HumanMessage, RemoveMessage\n",
    "from langchain_core.runnables import RunnableConfig\n",
    "\n",
    "from langgraph.checkpoint.memory import MemorySaver\n",
    "from langgraph.graph import StateGraph, START, END\n",
    "from langgraph.graph import MessagesState\n",
    "\n",
    "# LLM\n",
    "model = ChatAnthropic(model=\"claude-haiku-4-5-20251001\", temperature=0)\n",
    "# State \n",
    "class State(MessagesState):\n",
    "    summary: str\n",
    "\n",
    "# Define the logic to call the model\n",
    "def call_model(state: State, config: RunnableConfig):\n",
    "    \n",
    "    # Get summary if it exists\n",
    "    summary = state.get(\"summary\", \"\")\n",
    "\n",
    "    # If there is summary, then we add it\n",
    "    if summary:\n",
    "        \n",
    "        # Add summary to system message\n",
    "        system_message = f\"Summary of conversation earlier: {summary}\"\n",
    "\n",
    "        # Append summary to any newer messages\n",
    "        messages = [SystemMessage(content=system_message)] + state[\"messages\"]\n",
    "    \n",
    "    else:\n",
    "        messages = state[\"messages\"]\n",
    "    \n",
    "    response = model.invoke(messages, config)\n",
    "    return {\"messages\": response}\n",
    "\n",
    "def summarize_conversation(state: State):\n",
    "    \n",
    "    # First, we get any existing summary\n",
    "    summary = state.get(\"summary\", \"\")\n",
    "\n",
    "    # Create our summarization prompt \n",
    "    if summary:\n",
    "        \n",
    "        # A summary already exists\n",
    "        summary_message = (\n",
    "            f\"This is summary of the conversation to date: {summary}\\n\\n\"\n",
    "            \"Extend the summary by taking into account the new messages above:\"\n",
    "        )\n",
    "        \n",
    "    else:\n",
    "        summary_message = \"Create a summary of the conversation above:\"\n",
    "\n",
    "    # Add prompt to our history\n",
    "    messages = state[\"messages\"] + [HumanMessage(content=summary_message)]\n",
    "    response = model.invoke(messages)\n",
    "    \n",
    "    # Delete all but the 2 most recent messages\n",
    "    delete_messages = [RemoveMessage(id=m.id) for m in state[\"messages\"][:-2]]\n",
    "    return {\"summary\": response.content, \"messages\": delete_messages}\n",
    "\n",
    "# Determine whether to end or summarize the conversation\n",
    "def should_continue(state: State)-> Literal [\"summarize_conversation\",END]:\n",
    "    \n",
    "    \"\"\"Return the next node to execute.\"\"\"\n",
    "    \n",
    "    messages = state[\"messages\"]\n",
    "    \n",
    "    # If there are more than six messages, then we summarize the conversation\n",
    "    if len(messages) > 6:\n",
    "        return \"summarize_conversation\"\n",
    "    \n",
    "    # Otherwise we can just end\n",
    "    return END\n",
    "\n",
    "# Define a new graph\n",
    "workflow = StateGraph(State)\n",
    "workflow.add_node(\"conversation\", call_model)\n",
    "workflow.add_node(summarize_conversation)\n",
    "\n",
    "# Set the entrypoint as conversation\n",
    "workflow.add_edge(START, \"conversation\")\n",
    "workflow.add_conditional_edges(\"conversation\", should_continue)\n",
    "workflow.add_edge(\"summarize_conversation\", END)\n",
    "\n",
    "# Compile\n",
    "memory = MemorySaver()\n",
    "graph = workflow.compile(checkpointer=memory)\n",
    "display(Image(graph.get_graph().draw_mermaid_png()))"
   ],
   "outputs": [
    {
     "data": {
      "image/png": "[encoded data removed]",
      "text/plain": [
       "<IPython.core.display.Image object>"
      ]
     },
     "metadata": {},
     "output_type": "display_data",
     "jetTransient": {
      "display_id": null
     }
    }
   ],
   "execution_count": 57
  },
  {
   "attachments": {},
   "cell_type": "markdown",
   "id": "f847a787-b301-488c-9b58-cba9f389f55d",
   "metadata": {},
   "source": [
    "### Streaming full state\n",
    "\n",
    "Now, let's talk about ways to [stream our graph state](https://langchain-ai.github.io/langgraph/concepts/low_level/#streaming).\n",
    "\n",
    "`.stream` and `.astream` are sync and async methods for streaming back results. \n",
    " \n",
    "LangGraph supports a few [different streaming modes](https://langchain-ai.github.io/langgraph/how-tos/stream-values/) for [graph state](https://langchain-ai.github.io/langgraph/how-tos/stream-values/):\n",
    " \n",
    "* `values`: This streams the full state of the graph after each node is called.\n",
    "* `updates`: This streams updates to the state of the graph after each node is called.\n",
    "\n",
    "![values_vs_updates.png](https://cdn.prod.website-files.com/65b8cd72835ceeacd4449a53/66dbaf892d24625a201744e5_streaming1.png)\n",
    "\n",
    "Let's look at `stream_mode=\"updates\"`.\n",
    "\n",
    "Because we stream with `updates`, we only see updates to the state after node in the graph is run.\n",
    "\n",
    "Each `chunk` is a dict with `node_name` as the key and the updated state as the value."
   ]
  },
  {
   "cell_type": "code",
   "id": "9a6f8ae9-f244-40c5-a2da-618b72631b22",
   "metadata": {
    "ExecuteTime": {
     "end_time": "2025-10-27T15:02:54.421517Z",
     "start_time": "2025-10-27T15:02:53.281918Z"
    }
   },
   "source": [
    "# Create a thread\n",
    "config = {\"configurable\": {\"thread_id\": \"1\"}}\n",
    "\n",
    "# Start conversation\n",
    "for chunk in graph.stream({\"messages\": [HumanMessage(content=\"hi! I'm Ojasw.\")]}, config, stream_mode=\"updates\"):\n",
    "    print(chunk)"
   ],
   "outputs": [
    {
     "name": "stdout",
     "output_type": "stream",
     "text": [
      "{'conversation': {'messages': AIMessage(content='Hi Ojasw! Nice to meet you. How can I help you today?', additional_kwargs={}, response_metadata={'id': 'msg_0155DjEW3gp6XbC8DRmvfsMu', 'model': 'claude-haiku-4-5-20251001', 'stop_reason': 'end_turn', 'stop_sequence': None, 'usage': {'cache_creation': {'ephemeral_1h_input_tokens': 0, 'ephemeral_5m_input_tokens': 0}, 'cache_creation_input_tokens': 0, 'cache_read_input_tokens': 0, 'input_tokens': 16, 'output_tokens': 21, 'server_tool_use': None, 'service_tier': 'standard'}, 'model_name': 'claude-haiku-4-5-20251001'}, id='lc_run--0dc49b04-7725-48de-b35e-f5f72d88c0af-0', usage_metadata={'input_tokens': 16, 'output_tokens': 21, 'total_tokens': 37, 'input_token_details': {'cache_read': 0, 'cache_creation': 0, 'ephemeral_5m_input_tokens': 0, 'ephemeral_1h_input_tokens': 0}})}}\n"
     ]
    }
   ],
   "execution_count": 58
  },
  {
   "cell_type": "markdown",
   "id": "0c4882e9-07dd-4d70-866b-dfc530418cad",
   "metadata": {},
   "source": [
    "Let's now just print the state update."
   ]
  },
  {
   "cell_type": "code",
   "id": "c859c777-cb12-4682-9108-6b367e597b81",
   "metadata": {
    "ExecuteTime": {
     "end_time": "2025-10-27T15:02:55.983003Z",
     "start_time": "2025-10-27T15:02:54.454432Z"
    }
   },
   "source": [
    "# Start conversation\n",
    "for chunk in graph.stream({\"messages\": [HumanMessage(content=\"hi! I'm Ojasw\")]}, config, stream_mode=\"updates\"):\n",
    "    chunk['conversation'][\"messages\"].pretty_print()"
   ],
   "outputs": [
    {
     "name": "stdout",
     "output_type": "stream",
     "text": [
      "==================================\u001B[1m Ai Message \u001B[0m==================================\n",
      "\n",
      "Hey Ojasw! Good to meet you. 👋 \n",
      "\n",
      "Is there something I can help you with, or did you just want to chat?\n"
     ]
    }
   ],
   "execution_count": 59
  },
  {
   "cell_type": "markdown",
   "id": "583bf219-6358-4d06-ae99-c40f43569fda",
   "metadata": {},
   "source": [
    "Now, we can see `stream_mode=\"values\"`.\n",
    "\n",
    "This is the `full state` of the graph after the `conversation` node is called."
   ]
  },
  {
   "cell_type": "code",
   "id": "6ee763f8-6d1f-491e-8050-fb1439e116df",
   "metadata": {
    "ExecuteTime": {
     "end_time": "2025-10-27T15:02:57.069302Z",
     "start_time": "2025-10-27T15:02:56.014860Z"
    }
   },
   "source": [
    "# Start conversation, again\n",
    "config = {\"configurable\": {\"thread_id\": \"2\"}}\n",
    "\n",
    "# Start conversation\n",
    "input_message = HumanMessage(content=\"hi! I'm Ojasw.\")\n",
    "for event in graph.stream({\"messages\": [input_message]}, config, stream_mode=\"values\"):\n",
    "    for m in event['messages']:\n",
    "        m.pretty_print()\n",
    "    print(\"---\"*25)"
   ],
   "outputs": [
    {
     "name": "stdout",
     "output_type": "stream",
     "text": [
      "================================\u001B[1m Human Message \u001B[0m=================================\n",
      "\n",
      "hi! I'm Ojasw.\n",
      "---------------------------------------------------------------------------\n",
      "================================\u001B[1m Human Message \u001B[0m=================================\n",
      "\n",
      "hi! I'm Ojasw.\n",
      "==================================\u001B[1m Ai Message \u001B[0m==================================\n",
      "\n",
      "Hi Ojasw! Nice to meet you. How can I help you today?\n",
      "---------------------------------------------------------------------------\n"
     ]
    }
   ],
   "execution_count": 60
  },
  {
   "cell_type": "markdown",
   "id": "563c198a-d1a4-4700-b7a7-ff5b8e0b25d7",
   "metadata": {},
   "source": [
    "### Streaming tokens\n",
    "\n",
    "We often want to stream more than graph state.\n",
    "\n",
    "In particular, with chat model calls it is common to stream the tokens as they are generated.\n",
    "\n",
    "We can do this [using the `.astream_events` method](https://langchain-ai.github.io/langgraph/how-tos/streaming-from-final-node/#stream-outputs-from-the-final-node), which streams back events as they happen inside nodes!\n",
    "\n",
    "Each event is a dict with a few keys:\n",
    " \n",
    "* `event`: This is the type of event that is being emitted. \n",
    "* `name`: This is the name of event.\n",
    "* `data`: This is the data associated with the event.\n",
    "* `metadata`: Contains`langgraph_node`, the node emitting the event.\n",
    "\n",
    "Let's have a look."
   ]
  },
  {
   "cell_type": "code",
   "id": "6ae8c7a6-c6e7-4cef-ac9f-190d2f4dd763",
   "metadata": {
    "ExecuteTime": {
     "end_time": "2025-10-27T15:03:01.845710Z",
     "start_time": "2025-10-27T15:02:57.102871Z"
    }
   },
   "source": [
    "config = {\"configurable\": {\"thread_id\": \"3\"}}\n",
    "input_message = HumanMessage(content=\"Tell me about the ferrari f1 team\")\n",
    "async for event in graph.astream_events({\"messages\": [input_message]}, config, version=\"v2\"):\n",
    "    print(f\"Node: {event['metadata'].get('langgraph_node','')}. Type: {event['event']}. Name: {event['name']}\")"
   ],
   "outputs": [
    {
     "name": "stdout",
     "output_type": "stream",
     "text": [
      "Node: . Type: on_chain_start. Name: LangGraph\n",
      "Node: conversation. Type: on_chain_start. Name: conversation\n",
      "Node: conversation. Type: on_chat_model_start. Name: ChatAnthropic\n",
      "Node: conversation. Type: on_chat_model_stream. Name: ChatAnthropic\n",
      "Node: conversation. Type: on_chat_model_stream. Name: ChatAnthropic\n",
      "Node: conversation. Type: on_chat_model_stream. Name: ChatAnthropic\n",
      "Node: conversation. Type: on_chat_model_stream. Name: ChatAnthropic\n",
      "Node: conversation. Type: on_chat_model_stream. Name: ChatAnthropic\n",
      "Node: conversation. Type: on_chat_model_stream. Name: ChatAnthropic\n",
      "Node: conversation. Type: on_chat_model_stream. Name: ChatAnthropic\n",
      "Node: conversation. Type: on_chat_model_stream. Name: ChatAnthropic\n",
      "Node: conversation. Type: on_chat_model_stream. Name: ChatAnthropic\n",
      "Node: conversation. Type: on_chat_model_stream. Name: ChatAnthropic\n",
      "Node: conversation. Type: on_chat_model_stream. Name: ChatAnthropic\n",
      "Node: conversation. Type: on_chat_model_stream. Name: ChatAnthropic\n",
      "Node: conversation. Type: on_chat_model_stream. Name: ChatAnthropic\n",
      "Node: conversation. Type: on_chat_model_stream. Name: ChatAnthropic\n",
      "Node: conversation. Type: on_chat_model_stream. Name: ChatAnthropic\n",
      "Node: conversation. Type: on_chat_model_stream. Name: ChatAnthropic\n",
      "Node: conversation. Type: on_chat_model_stream. Name: ChatAnthropic\n",
      "Node: conversation. Type: on_chat_model_stream. Name: ChatAnthropic\n",
      "Node: conversation. Type: on_chat_model_stream. Name: ChatAnthropic\n",
      "Node: conversation. Type: on_chat_model_stream. Name: ChatAnthropic\n",
      "Node: conversation. Type: on_chat_model_stream. Name: ChatAnthropic\n",
      "Node: conversation. Type: on_chat_model_stream. Name: ChatAnthropic\n",
      "Node: conversation. Type: on_chat_model_stream. Name: ChatAnthropic\n",
      "Node: conversation. Type: on_chat_model_stream. Name: ChatAnthropic\n",
      "Node: conversation. Type: on_chat_model_stream. Name: ChatAnthropic\n",
      "Node: conversation. Type: on_chat_model_stream. Name: ChatAnthropic\n",
      "Node: conversation. Type: on_chat_model_stream. Name: ChatAnthropic\n",
      "Node: conversation. Type: on_chat_model_stream. Name: ChatAnthropic\n",
      "Node: conversation. Type: on_chat_model_stream. Name: ChatAnthropic\n",
      "Node: conversation. Type: on_chat_model_stream. Name: ChatAnthropic\n",
      "Node: conversation. Type: on_chat_model_stream. Name: ChatAnthropic\n",
      "Node: conversation. Type: on_chat_model_stream. Name: ChatAnthropic\n",
      "Node: conversation. Type: on_chat_model_stream. Name: ChatAnthropic\n",
      "Node: conversation. Type: on_chat_model_stream. Name: ChatAnthropic\n",
      "Node: conversation. Type: on_chat_model_stream. Name: ChatAnthropic\n",
      "Node: conversation. Type: on_chat_model_stream. Name: ChatAnthropic\n",
      "Node: conversation. Type: on_chat_model_stream. Name: ChatAnthropic\n",
      "Node: conversation. Type: on_chat_model_stream. Name: ChatAnthropic\n",
      "Node: conversation. Type: on_chat_model_stream. Name: ChatAnthropic\n",
      "Node: conversation. Type: on_chat_model_stream. Name: ChatAnthropic\n",
      "Node: conversation. Type: on_chat_model_stream. Name: ChatAnthropic\n",
      "Node: conversation. Type: on_chat_model_stream. Name: ChatAnthropic\n",
      "Node: conversation. Type: on_chat_model_stream. Name: ChatAnthropic\n",
      "Node: conversation. Type: on_chat_model_stream. Name: ChatAnthropic\n",
      "Node: conversation. Type: on_chat_model_stream. Name: ChatAnthropic\n",
      "Node: conversation. Type: on_chat_model_stream. Name: ChatAnthropic\n",
      "Node: conversation. Type: on_chat_model_stream. Name: ChatAnthropic\n",
      "Node: conversation. Type: on_chat_model_stream. Name: ChatAnthropic\n",
      "Node: conversation. Type: on_chat_model_stream. Name: ChatAnthropic\n",
      "Node: conversation. Type: on_chat_model_stream. Name: ChatAnthropic\n",
      "Node: conversation. Type: on_chat_model_stream. Name: ChatAnthropic\n",
      "Node: conversation. Type: on_chat_model_stream. Name: ChatAnthropic\n",
      "Node: conversation. Type: on_chat_model_stream. Name: ChatAnthropic\n",
      "Node: conversation. Type: on_chat_model_stream. Name: ChatAnthropic\n",
      "Node: conversation. Type: on_chat_model_stream. Name: ChatAnthropic\n",
      "Node: conversation. Type: on_chat_model_stream. Name: ChatAnthropic\n",
      "Node: conversation. Type: on_chat_model_stream. Name: ChatAnthropic\n",
      "Node: conversation. Type: on_chat_model_stream. Name: ChatAnthropic\n",
      "Node: conversation. Type: on_chat_model_stream. Name: ChatAnthropic\n",
      "Node: conversation. Type: on_chat_model_stream. Name: ChatAnthropic\n",
      "Node: conversation. Type: on_chat_model_stream. Name: ChatAnthropic\n",
      "Node: conversation. Type: on_chat_model_stream. Name: ChatAnthropic\n",
      "Node: conversation. Type: on_chat_model_stream. Name: ChatAnthropic\n",
      "Node: conversation. Type: on_chat_model_stream. Name: ChatAnthropic\n",
      "Node: conversation. Type: on_chat_model_stream. Name: ChatAnthropic\n",
      "Node: conversation. Type: on_chat_model_stream. Name: ChatAnthropic\n",
      "Node: conversation. Type: on_chat_model_stream. Name: ChatAnthropic\n",
      "Node: conversation. Type: on_chat_model_stream. Name: ChatAnthropic\n",
      "Node: conversation. Type: on_chat_model_stream. Name: ChatAnthropic\n",
      "Node: conversation. Type: on_chat_model_stream. Name: ChatAnthropic\n",
      "Node: conversation. Type: on_chat_model_stream. Name: ChatAnthropic\n",
      "Node: conversation. Type: on_chat_model_stream. Name: ChatAnthropic\n",
      "Node: conversation. Type: on_chat_model_stream. Name: ChatAnthropic\n",
      "Node: conversation. Type: on_chat_model_stream. Name: ChatAnthropic\n",
      "Node: conversation. Type: on_chat_model_stream. Name: ChatAnthropic\n",
      "Node: conversation. Type: on_chat_model_stream. Name: ChatAnthropic\n",
      "Node: conversation. Type: on_chat_model_stream. Name: ChatAnthropic\n",
      "Node: conversation. Type: on_chat_model_stream. Name: ChatAnthropic\n",
      "Node: conversation. Type: on_chat_model_stream. Name: ChatAnthropic\n",
      "Node: conversation. Type: on_chat_model_stream. Name: ChatAnthropic\n",
      "Node: conversation. Type: on_chat_model_stream. Name: ChatAnthropic\n",
      "Node: conversation. Type: on_chat_model_stream. Name: ChatAnthropic\n",
      "Node: conversation. Type: on_chat_model_stream. Name: ChatAnthropic\n",
      "Node: conversation. Type: on_chat_model_stream. Name: ChatAnthropic\n",
      "Node: conversation. Type: on_chat_model_stream. Name: ChatAnthropic\n",
      "Node: conversation. Type: on_chat_model_stream. Name: ChatAnthropic\n",
      "Node: conversation. Type: on_chat_model_stream. Name: ChatAnthropic\n",
      "Node: conversation. Type: on_chat_model_stream. Name: ChatAnthropic\n",
      "Node: conversation. Type: on_chat_model_stream. Name: ChatAnthropic\n",
      "Node: conversation. Type: on_chat_model_stream. Name: ChatAnthropic\n",
      "Node: conversation. Type: on_chat_model_stream. Name: ChatAnthropic\n",
      "Node: conversation. Type: on_chat_model_stream. Name: ChatAnthropic\n",
      "Node: conversation. Type: on_chat_model_stream. Name: ChatAnthropic\n",
      "Node: conversation. Type: on_chat_model_stream. Name: ChatAnthropic\n",
      "Node: conversation. Type: on_chat_model_end. Name: ChatAnthropic\n",
      "Node: conversation. Type: on_chain_start. Name: should_continue\n",
      "Node: conversation. Type: on_chain_end. Name: should_continue\n",
      "Node: conversation. Type: on_chain_stream. Name: conversation\n",
      "Node: conversation. Type: on_chain_end. Name: conversation\n",
      "Node: . Type: on_chain_stream. Name: LangGraph\n",
      "Node: . Type: on_chain_end. Name: LangGraph\n"
     ]
    }
   ],
   "execution_count": 61
  },
  {
   "cell_type": "markdown",
   "id": "0b63490f-3d24-4f68-95ca-5320ccb61d2d",
   "metadata": {},
   "source": [
    "The central point is that tokens from chat models within your graph have the `on_chat_model_stream` type.\n",
    "\n",
    "We can use `event['metadata']['langgraph_node']` to select the node to stream from.\n",
    "\n",
    "And we can use `event['data']` to get the actual data for each event, which in this case is an `AIMessageChunk`. "
   ]
  },
  {
   "cell_type": "code",
   "id": "cc3529f8-3960-4d41-9ed6-373f93183950",
   "metadata": {
    "ExecuteTime": {
     "end_time": "2025-10-27T15:03:06.925537Z",
     "start_time": "2025-10-27T15:03:01.875539Z"
    }
   },
   "source": [
    "node_to_stream = 'conversation'\n",
    "config = {\"configurable\": {\"thread_id\": \"4\"}}\n",
    "input_message = HumanMessage(content=\"Tell me about the ferrari f1 team\")\n",
    "async for event in graph.astream_events({\"messages\": [input_message]}, config, version=\"v2\"):\n",
    "    # Get chat model tokens from a particular node \n",
    "    if event[\"event\"] == \"on_chat_model_stream\" and event['metadata'].get('langgraph_node','') == node_to_stream:\n",
    "        print(event[\"data\"])"
   ],
   "outputs": [
    {
     "name": "stdout",
     "output_type": "stream",
     "text": [
      "{'chunk': AIMessageChunk(content='', additional_kwargs={}, response_metadata={'model_name': 'claude-haiku-4-5-20251001'}, id='lc_run--dc3d3686-114b-4ef4-9726-3b7ac53c4b24')}\n",
      "{'chunk': AIMessageChunk(content='#', additional_kwargs={}, response_metadata={}, id='lc_run--dc3d3686-114b-4ef4-9726-3b7ac53c4b24')}\n",
      "{'chunk': AIMessageChunk(content=' Ferrari F1 Team\\n\\n##', additional_kwargs={}, response_metadata={}, id='lc_run--dc3d3686-114b-4ef4-9726-3b7ac53c4b24')}\n",
      "{'chunk': AIMessageChunk(content=' Overview\\nFerrari', additional_kwargs={}, response_metadata={}, id='lc_run--dc3d3686-114b-4ef4-9726-3b7ac53c4b24')}\n",
      "{'chunk': AIMessageChunk(content=' is one of Formula', additional_kwargs={}, response_metadata={}, id='lc_run--dc3d3686-114b-4ef4-9726-3b7ac53c4b24')}\n",
      "{'chunk': AIMessageChunk(content=\" 1's most iconic\", additional_kwargs={}, response_metadata={}, id='lc_run--dc3d3686-114b-4ef4-9726-3b7ac53c4b24')}\n",
      "{'chunk': AIMessageChunk(content=' and successful teams, competing', additional_kwargs={}, response_metadata={}, id='lc_run--dc3d3686-114b-4ef4-9726-3b7ac53c4b24')}\n",
      "{'chunk': AIMessageChunk(content=' since the sport', additional_kwargs={}, response_metadata={}, id='lc_run--dc3d3686-114b-4ef4-9726-3b7ac53c4b24')}\n",
      "{'chunk': AIMessageChunk(content=\"'s inception in 1950\", additional_kwargs={}, response_metadata={}, id='lc_run--dc3d3686-114b-4ef4-9726-3b7ac53c4b24')}\n",
      "{'chunk': AIMessageChunk(content='. Based in Maranello, Italy,', additional_kwargs={}, response_metadata={}, id='lc_run--dc3d3686-114b-4ef4-9726-3b7ac53c4b24')}\n",
      "{'chunk': AIMessageChunk(content=\" it's the oldest continuously\", additional_kwargs={}, response_metadata={}, id='lc_run--dc3d3686-114b-4ef4-9726-3b7ac53c4b24')}\n",
      "{'chunk': AIMessageChunk(content=' competing team', additional_kwargs={}, response_metadata={}, id='lc_run--dc3d3686-114b-4ef4-9726-3b7ac53c4b24')}\n",
      "{'chunk': AIMessageChunk(content=' in F1.', additional_kwargs={}, response_metadata={}, id='lc_run--dc3d3686-114b-4ef4-9726-3b7ac53c4b24')}\n",
      "{'chunk': AIMessageChunk(content='\\n\\n## History &', additional_kwargs={}, response_metadata={}, id='lc_run--dc3d3686-114b-4ef4-9726-3b7ac53c4b24')}\n",
      "{'chunk': AIMessageChunk(content=' Success\\n- **14', additional_kwargs={}, response_metadata={}, id='lc_run--dc3d3686-114b-4ef4-9726-3b7ac53c4b24')}\n",
      "{'chunk': AIMessageChunk(content=' ', additional_kwargs={}, response_metadata={}, id='lc_run--dc3d3686-114b-4ef4-9726-3b7ac53c4b24')}\n",
      "{'chunk': AIMessageChunk(content=\"Constructors' Championships** (most\", additional_kwargs={}, response_metadata={}, id='lc_run--dc3d3686-114b-4ef4-9726-3b7ac53c4b24')}\n",
      "{'chunk': AIMessageChunk(content=' recently', additional_kwargs={}, response_metadata={}, id='lc_run--dc3d3686-114b-4ef4-9726-3b7ac53c4b24')}\n",
      "{'chunk': AIMessageChunk(content=' 2008', additional_kwargs={}, response_metadata={}, id='lc_run--dc3d3686-114b-4ef4-9726-3b7ac53c4b24')}\n",
      "{'chunk': AIMessageChunk(content=')', additional_kwargs={}, response_metadata={}, id='lc_run--dc3d3686-114b-4ef4-9726-3b7ac53c4b24')}\n",
      "{'chunk': AIMessageChunk(content='\\n- **15', additional_kwargs={}, response_metadata={}, id='lc_run--dc3d3686-114b-4ef4-9726-3b7ac53c4b24')}\n",
      "{'chunk': AIMessageChunk(content=' ', additional_kwargs={}, response_metadata={}, id='lc_run--dc3d3686-114b-4ef4-9726-3b7ac53c4b24')}\n",
      "{'chunk': AIMessageChunk(content=\"Drivers' Championships** through\", additional_kwargs={}, response_metadata={}, id='lc_run--dc3d3686-114b-4ef4-9726-3b7ac53c4b24')}\n",
      "{'chunk': AIMessageChunk(content=' legendary', additional_kwargs={}, response_metadata={}, id='lc_run--dc3d3686-114b-4ef4-9726-3b7ac53c4b24')}\n",
      "{'chunk': AIMessageChunk(content=' drivers like Juan', additional_kwargs={}, response_metadata={}, id='lc_run--dc3d3686-114b-4ef4-9726-3b7ac53c4b24')}\n",
      "{'chunk': AIMessageChunk(content=' Manuel Fangio, ', additional_kwargs={}, response_metadata={}, id='lc_run--dc3d3686-114b-4ef4-9726-3b7ac53c4b24')}\n",
      "{'chunk': AIMessageChunk(content='Niki', additional_kwargs={}, response_metadata={}, id='lc_run--dc3d3686-114b-4ef4-9726-3b7ac53c4b24')}\n",
      "{'chunk': AIMessageChunk(content=' Lauda, Michael', additional_kwargs={}, response_metadata={}, id='lc_run--dc3d3686-114b-4ef4-9726-3b7ac53c4b24')}\n",
      "{'chunk': AIMessageChunk(content=' Schumacher, and K', additional_kwargs={}, response_metadata={}, id='lc_run--dc3d3686-114b-4ef4-9726-3b7ac53c4b24')}\n",
      "{'chunk': AIMessageChunk(content='imi Räikkönen\\n-', additional_kwargs={}, response_metadata={}, id='lc_run--dc3d3686-114b-4ef4-9726-3b7ac53c4b24')}\n",
      "{'chunk': AIMessageChunk(content=' Known for passionate', additional_kwargs={}, response_metadata={}, id='lc_run--dc3d3686-114b-4ef4-9726-3b7ac53c4b24')}\n",
      "{'chunk': AIMessageChunk(content=' fan base (\"', additional_kwargs={}, response_metadata={}, id='lc_run--dc3d3686-114b-4ef4-9726-3b7ac53c4b24')}\n",
      "{'chunk': AIMessageChunk(content='Tif', additional_kwargs={}, response_metadata={}, id='lc_run--dc3d3686-114b-4ef4-9726-3b7ac53c4b24')}\n",
      "{'chunk': AIMessageChunk(content='osi\")', additional_kwargs={}, response_metadata={}, id='lc_run--dc3d3686-114b-4ef4-9726-3b7ac53c4b24')}\n",
      "{'chunk': AIMessageChunk(content=' and rich', additional_kwargs={}, response_metadata={}, id='lc_run--dc3d3686-114b-4ef4-9726-3b7ac53c4b24')}\n",
      "{'chunk': AIMessageChunk(content=' heritage\\n\\n## Current Status', additional_kwargs={}, response_metadata={}, id='lc_run--dc3d3686-114b-4ef4-9726-3b7ac53c4b24')}\n",
      "{'chunk': AIMessageChunk(content=' (2024)\\n- Le', additional_kwargs={}, response_metadata={}, id='lc_run--dc3d3686-114b-4ef4-9726-3b7ac53c4b24')}\n",
      "{'chunk': AIMessageChunk(content='d by team principal **Fre', additional_kwargs={}, response_metadata={}, id='lc_run--dc3d3686-114b-4ef4-9726-3b7ac53c4b24')}\n",
      "{'chunk': AIMessageChunk(content='d Vasseur**\\n- Drivers', additional_kwargs={}, response_metadata={}, id='lc_run--dc3d3686-114b-4ef4-9726-3b7ac53c4b24')}\n",
      "{'chunk': AIMessageChunk(content=': **', additional_kwargs={}, response_metadata={}, id='lc_run--dc3d3686-114b-4ef4-9726-3b7ac53c4b24')}\n",
      "{'chunk': AIMessageChunk(content='Charles Leclerc** an', additional_kwargs={}, response_metadata={}, id='lc_run--dc3d3686-114b-4ef4-9726-3b7ac53c4b24')}\n",
      "{'chunk': AIMessageChunk(content='d **Carlos Sainz**\\n- Recently', additional_kwargs={}, response_metadata={}, id='lc_run--dc3d3686-114b-4ef4-9726-3b7ac53c4b24')}\n",
      "{'chunk': AIMessageChunk(content=' competitive again', additional_kwargs={}, response_metadata={}, id='lc_run--dc3d3686-114b-4ef4-9726-3b7ac53c4b24')}\n",
      "{'chunk': AIMessageChunk(content=' after years of struggles', additional_kwargs={}, response_metadata={}, id='lc_run--dc3d3686-114b-4ef4-9726-3b7ac53c4b24')}\n",
      "{'chunk': AIMessageChunk(content=',', additional_kwargs={}, response_metadata={}, id='lc_run--dc3d3686-114b-4ef4-9726-3b7ac53c4b24')}\n",
      "{'chunk': AIMessageChunk(content=' showing', additional_kwargs={}, response_metadata={}, id='lc_run--dc3d3686-114b-4ef4-9726-3b7ac53c4b24')}\n",
      "{'chunk': AIMessageChunk(content=' strong performance', additional_kwargs={}, response_metadata={}, id='lc_run--dc3d3686-114b-4ef4-9726-3b7ac53c4b24')}\n",
      "{'chunk': AIMessageChunk(content=' improvements\\n\\n##', additional_kwargs={}, response_metadata={}, id='lc_run--dc3d3686-114b-4ef4-9726-3b7ac53c4b24')}\n",
      "{'chunk': AIMessageChunk(content=' Characteristics\\n- **Red liv', additional_kwargs={}, response_metadata={}, id='lc_run--dc3d3686-114b-4ef4-9726-3b7ac53c4b24')}\n",
      "{'chunk': AIMessageChunk(content='ery** - iconic', additional_kwargs={}, response_metadata={}, id='lc_run--dc3d3686-114b-4ef4-9726-3b7ac53c4b24')}\n",
      "{'chunk': AIMessageChunk(content=' and instantly recognizable\\n- **Pr', additional_kwargs={}, response_metadata={}, id='lc_run--dc3d3686-114b-4ef4-9726-3b7ac53c4b24')}\n",
      "{'chunk': AIMessageChunk(content='ancing Horse** logo', additional_kwargs={}, response_metadata={}, id='lc_run--dc3d3686-114b-4ef4-9726-3b7ac53c4b24')}\n",
      "{'chunk': AIMessageChunk(content=' - symbol of Italian excellence', additional_kwargs={}, response_metadata={}, id='lc_run--dc3d3686-114b-4ef4-9726-3b7ac53c4b24')}\n",
      "{'chunk': AIMessageChunk(content='\\n- Strong', additional_kwargs={}, response_metadata={}, id='lc_run--dc3d3686-114b-4ef4-9726-3b7ac53c4b24')}\n",
      "{'chunk': AIMessageChunk(content=' emphasis on driver development and long', additional_kwargs={}, response_metadata={}, id='lc_run--dc3d3686-114b-4ef4-9726-3b7ac53c4b24')}\n",
      "{'chunk': AIMessageChunk(content='-term partnerships\\n-', additional_kwargs={}, response_metadata={}, id='lc_run--dc3d3686-114b-4ef4-9726-3b7ac53c4b24')}\n",
      "{'chunk': AIMessageChunk(content=' Significant resources', additional_kwargs={}, response_metadata={}, id='lc_run--dc3d3686-114b-4ef4-9726-3b7ac53c4b24')}\n",
      "{'chunk': AIMessageChunk(content=' and manufacturer support', additional_kwargs={}, response_metadata={}, id='lc_run--dc3d3686-114b-4ef4-9726-3b7ac53c4b24')}\n",
      "{'chunk': AIMessageChunk(content=' from parent company Stellantis\\n\\n##', additional_kwargs={}, response_metadata={}, id='lc_run--dc3d3686-114b-4ef4-9726-3b7ac53c4b24')}\n",
      "{'chunk': AIMessageChunk(content=' Challenges\\n- Hasn', additional_kwargs={}, response_metadata={}, id='lc_run--dc3d3686-114b-4ef4-9726-3b7ac53c4b24')}\n",
      "{'chunk': AIMessageChunk(content=\"'t won a\", additional_kwargs={}, response_metadata={}, id='lc_run--dc3d3686-114b-4ef4-9726-3b7ac53c4b24')}\n",
      "{'chunk': AIMessageChunk(content=\" Drivers' Championship since 2007\", additional_kwargs={}, response_metadata={}, id='lc_run--dc3d3686-114b-4ef4-9726-3b7ac53c4b24')}\n",
      "{'chunk': AIMessageChunk(content=' (', additional_kwargs={}, response_metadata={}, id='lc_run--dc3d3686-114b-4ef4-9726-3b7ac53c4b24')}\n",
      "{'chunk': AIMessageChunk(content='Räikkönen)', additional_kwargs={}, response_metadata={}, id='lc_run--dc3d3686-114b-4ef4-9726-3b7ac53c4b24')}\n",
      "{'chunk': AIMessageChunk(content='\\n- Recent', additional_kwargs={}, response_metadata={}, id='lc_run--dc3d3686-114b-4ef4-9726-3b7ac53c4b24')}\n",
      "{'chunk': AIMessageChunk(content=' years saw incons', additional_kwargs={}, response_metadata={}, id='lc_run--dc3d3686-114b-4ef4-9726-3b7ac53c4b24')}\n",
      "{'chunk': AIMessageChunk(content='istent performance before', additional_kwargs={}, response_metadata={}, id='lc_run--dc3d3686-114b-4ef4-9726-3b7ac53c4b24')}\n",
      "{'chunk': AIMessageChunk(content=' recent improvements\\n- High', additional_kwargs={}, response_metadata={}, id='lc_run--dc3d3686-114b-4ef4-9726-3b7ac53c4b24')}\n",
      "{'chunk': AIMessageChunk(content=' expectations and intense', additional_kwargs={}, response_metadata={}, id='lc_run--dc3d3686-114b-4ef4-9726-3b7ac53c4b24')}\n",
      "{'chunk': AIMessageChunk(content=' media scrutiny\\n\\nFerrari', additional_kwargs={}, response_metadata={}, id='lc_run--dc3d3686-114b-4ef4-9726-3b7ac53c4b24')}\n",
      "{'chunk': AIMessageChunk(content=' remains F', additional_kwargs={}, response_metadata={}, id='lc_run--dc3d3686-114b-4ef4-9726-3b7ac53c4b24')}\n",
      "{'chunk': AIMessageChunk(content=\"1's most glam\", additional_kwargs={}, response_metadata={}, id='lc_run--dc3d3686-114b-4ef4-9726-3b7ac53c4b24')}\n",
      "{'chunk': AIMessageChunk(content='orous and historically significant team, with', additional_kwargs={}, response_metadata={}, id='lc_run--dc3d3686-114b-4ef4-9726-3b7ac53c4b24')}\n",
      "{'chunk': AIMessageChunk(content=' a passionate', additional_kwargs={}, response_metadata={}, id='lc_run--dc3d3686-114b-4ef4-9726-3b7ac53c4b24')}\n",
      "{'chunk': AIMessageChunk(content=' global following.', additional_kwargs={}, response_metadata={}, id='lc_run--dc3d3686-114b-4ef4-9726-3b7ac53c4b24')}\n",
      "{'chunk': AIMessageChunk(content='', additional_kwargs={}, response_metadata={'stop_reason': 'end_turn', 'stop_sequence': None}, id='lc_run--dc3d3686-114b-4ef4-9726-3b7ac53c4b24', usage_metadata={'input_tokens': 16, 'output_tokens': 317, 'total_tokens': 333, 'input_token_details': {'cache_creation': 0, 'cache_read': 0}})}\n",
      "{'chunk': AIMessageChunk(content='', additional_kwargs={}, response_metadata={}, id='lc_run--dc3d3686-114b-4ef4-9726-3b7ac53c4b24', chunk_position='last')}\n"
     ]
    }
   ],
   "execution_count": 62
  },
  {
   "cell_type": "markdown",
   "id": "226e569a-76c3-43d8-8f89-3ae687efde1c",
   "metadata": {},
   "source": [
    "As you see above, just use the `chunk` key to get the `AIMessageChunk`."
   ]
  },
  {
   "cell_type": "code",
   "id": "3aeae53d-6dcf-40d0-a0c6-c40de492cc83",
   "metadata": {
    "ExecuteTime": {
     "end_time": "2025-10-27T15:03:11.994188Z",
     "start_time": "2025-10-27T15:03:06.954171Z"
    }
   },
   "source": [
    "config = {\"configurable\": {\"thread_id\": \"5\"}}\n",
    "input_message = HumanMessage(content=\"Tell me about the ferrari f1 team\")\n",
    "async for event in graph.astream_events({\"messages\": [input_message]}, config, version=\"v2\"):\n",
    "    # Get chat model tokens from a particular node \n",
    "    if event[\"event\"] == \"on_chat_model_stream\" and event['metadata'].get('langgraph_node','') == node_to_stream:\n",
    "        data = event[\"data\"]\n",
    "        print(data[\"chunk\"].content, end=\"|\")"
   ],
   "outputs": [
    {
     "name": "stdout",
     "output_type": "stream",
     "text": [
      "|#| Ferrari F1 Team\n",
      "\n",
      "##| Overview\n",
      "Ferrari| is one of Formula| 1's most iconic| and successful teams|, competing| since the| sport's inception in 1950|. Base|d in Maranello, Italy,| it|'s| the oldest| continuously competing| team in F|1.|\n",
      "\n",
      "## History &| Success\n",
      "- **14| |Constructors' Championships** (most| recently 2008|)\n",
      "- **15| |Drivers' Championships** through| legendary drivers like Juan| Manuel Fangio, |Niki Lauda, Michael| Schumacher, and K|imi Räikkönen\n",
      "-| Known for passionate fan base| (\"Tif|osi\") and rich| heritage\n",
      "\n",
      "## Current Status| (2024)\n",
      "- Le|d by team principal **|Fred Vasseur**\n",
      "- Drivers|: **Charles| Leclerc** an|d **Carlos| Sainz**\n",
      "- Recently| competitive again| after years| of struggles|, showing| strong performance| improvements|\n",
      "\n",
      "##| Characteristics|\n",
      "- **Re|d liv|ery** -| iconic| an|d instantly| recognizable\n",
      "- **Pr|ancing Horse|** logo| - symbol| of Italian| excellence|\n",
      "- Strong| emphasis on driver| development and long|-term partnerships|\n",
      "-| Significant resources and manufacturer| support from| parent company Stell|antis\n",
      "\n",
      "##| Challenges\n",
      "- Hasn|'t won a| Drivers' Championship since 2007| |(|Rä|ikkönen)|\n",
      "- Recent years| saw| incons|istent performance before| recent improvements\n",
      "- High| expectations| and intense media| scrutiny\n",
      "\n",
      "Ferrari| remains F1's most glam|orous and historically| significant team, with| a passionate global| following.|||"
     ]
    }
   ],
   "execution_count": 63
  },
  {
   "attachments": {},
   "cell_type": "markdown",
   "id": "5826e4d8-846b-4f6c-a5c1-e781d43022db",
   "metadata": {},
   "source": [
    "### Streaming with LangGraph API\n",
    "\n",
    "**⚠️ Notice**\n",
    "\n",
    "Since filming these videos, we've updated Studio so that it can now be run locally and accessed through your browser. This is the preferred way to run Studio instead of using the Desktop App shown in the video. It is now called _LangSmith Studio_ instead of _LangGraph Studio_. Detailed setup instructions are available in the \"Getting Setup\" guide at the start of the course. You can find a description of Studio [here](https://docs.langchain.com/langsmith/studio), and specific details for local deployment [here](https://docs.langchain.com/langsmith/quick-start-studio#local-development-server).  \n",
    "To start the local development server, run the following command in your terminal in the `/studio` directory in this module:\n",
    "\n",
    "```\n",
    "langgraph dev\n",
    "```\n",
    "\n",
    "You should see the following output:\n",
    "```\n",
    "- 🚀 API: http://127.0.0.1:2024\n",
    "- 🎨 Studio UI: https://smith.langchain.com/studio/?baseUrl=http://127.0.0.1:2024\n",
    "- 📚 API Docs: http://127.0.0.1:2024/docs\n",
    "```\n",
    "\n",
    "Open your browser and navigate to the **Studio UI** URL shown above.\n",
    "\n",
    "The LangGraph API [supports editing graph state](https://langchain-ai.github.io/langgraph/cloud/how-tos/human_in_the_loop_edit_state/#initial-invocation). "
   ]
  },
  {
   "cell_type": "code",
   "id": "8925b632-512b-48e1-9220-61c06bfbf0b8",
   "metadata": {
    "ExecuteTime": {
     "end_time": "2025-10-27T15:03:12.015116Z",
     "start_time": "2025-10-27T15:03:12.013257Z"
    }
   },
   "source": [
    "if 'google.colab' in str(get_ipython()):\n",
    "    raise Exception(\"Unfortunately LangGraph Studio is currently not supported on Google Colab\")"
   ],
   "outputs": [],
   "execution_count": 64
  },
  {
   "cell_type": "code",
   "id": "079c2ad6",
   "metadata": {
    "ExecuteTime": {
     "end_time": "2025-10-27T15:03:12.041338Z",
     "start_time": "2025-10-27T15:03:12.021868Z"
    }
   },
   "source": [
    "from langgraph_sdk import get_client\n",
    "\n",
    "# This is the URL of the local development server\n",
    "URL = \"http://127.0.0.1:2024\"\n",
    "client = get_client(url=URL)\n",
    "\n",
    "# Search all hosted graphs\n",
    "assistants = await client.assistants.search()"
   ],
   "outputs": [],
   "execution_count": 65
  },
  {
   "cell_type": "markdown",
   "id": "4d15af9e-0e86-41e3-a5ba-ee2a4aa08a32",
   "metadata": {},
   "source": [
    "Let's [stream `values`](https://langchain-ai.github.io/langgraph/cloud/how-tos/stream_values/), like before."
   ]
  },
  {
   "cell_type": "code",
   "id": "63e3096f-5429-4d3c-8de2-2bddf7266ebf",
   "metadata": {
    "ExecuteTime": {
     "end_time": "2025-10-27T15:03:15.391371Z",
     "start_time": "2025-10-27T15:03:12.047036Z"
    }
   },
   "source": [
    "# Create a new thread\n",
    "thread = await client.threads.create()\n",
    "# Input message\n",
    "input_message = HumanMessage(content=\"Multiply 2 and 3\")\n",
    "async for event in client.runs.stream(thread[\"thread_id\"], \n",
    "                                      assistant_id=\"agent\", \n",
    "                                      input={\"messages\": [input_message]}, \n",
    "                                      stream_mode=\"values\"):\n",
    "    print(event)"
   ],
   "outputs": [
    {
     "name": "stdout",
     "output_type": "stream",
     "text": [
      "StreamPart(event='metadata', data={'run_id': '019a2631-d7b4-76dd-a441-250a03a4c9b0', 'attempt': 1})\n",
      "StreamPart(event='values', data={'messages': [{'content': 'Multiply 2 and 3', 'additional_kwargs': {}, 'response_metadata': {}, 'type': 'human', 'name': None, 'id': '5766f691-aaea-4e59-8b99-ba2a5469e7dd'}]})\n",
      "StreamPart(event='values', data={'messages': [{'content': 'Multiply 2 and 3', 'additional_kwargs': {}, 'response_metadata': {}, 'type': 'human', 'name': None, 'id': '5766f691-aaea-4e59-8b99-ba2a5469e7dd'}, {'content': '', 'additional_kwargs': {'refusal': None}, 'response_metadata': {'token_usage': {'completion_tokens': 17, 'prompt_tokens': 134, 'total_tokens': 151, 'completion_tokens_details': {'accepted_prediction_tokens': 0, 'audio_tokens': 0, 'reasoning_tokens': 0, 'rejected_prediction_tokens': 0}, 'prompt_tokens_details': {'audio_tokens': 0, 'cached_tokens': 0}}, 'model_provider': 'openai', 'model_name': 'gpt-4o-2024-08-06', 'system_fingerprint': 'fp_65564d8ba5', 'id': 'chatcmpl-CVJ2X2cWl6UADIPFHzdxOsOd6DD9J', 'service_tier': 'default', 'finish_reason': 'tool_calls', 'logprobs': None}, 'type': 'ai', 'name': None, 'id': 'lc_run--36c151aa-7af1-429b-8974-163565778bbc-0', 'tool_calls': [{'name': 'multiply', 'args': {'a': 2, 'b': 3}, 'id': 'call_ZHbmzWSFIAAQORmA5bFvyVsn', 'type': 'tool_call'}], 'invalid_tool_calls': [], 'usage_metadata': {'input_tokens': 134, 'output_tokens': 17, 'total_tokens': 151, 'input_token_details': {'audio': 0, 'cache_read': 0}, 'output_token_details': {'audio': 0, 'reasoning': 0}}}]})\n",
      "StreamPart(event='values', data={'messages': [{'content': 'Multiply 2 and 3', 'additional_kwargs': {}, 'response_metadata': {}, 'type': 'human', 'name': None, 'id': '5766f691-aaea-4e59-8b99-ba2a5469e7dd'}, {'content': '', 'additional_kwargs': {'refusal': None}, 'response_metadata': {'token_usage': {'completion_tokens': 17, 'prompt_tokens': 134, 'total_tokens': 151, 'completion_tokens_details': {'accepted_prediction_tokens': 0, 'audio_tokens': 0, 'reasoning_tokens': 0, 'rejected_prediction_tokens': 0}, 'prompt_tokens_details': {'audio_tokens': 0, 'cached_tokens': 0}}, 'model_provider': 'openai', 'model_name': 'gpt-4o-2024-08-06', 'system_fingerprint': 'fp_65564d8ba5', 'id': 'chatcmpl-CVJ2X2cWl6UADIPFHzdxOsOd6DD9J', 'service_tier': 'default', 'finish_reason': 'tool_calls', 'logprobs': None}, 'type': 'ai', 'name': None, 'id': 'lc_run--36c151aa-7af1-429b-8974-163565778bbc-0', 'tool_calls': [{'name': 'multiply', 'args': {'a': 2, 'b': 3}, 'id': 'call_ZHbmzWSFIAAQORmA5bFvyVsn', 'type': 'tool_call'}], 'invalid_tool_calls': [], 'usage_metadata': {'input_tokens': 134, 'output_tokens': 17, 'total_tokens': 151, 'input_token_details': {'audio': 0, 'cache_read': 0}, 'output_token_details': {'audio': 0, 'reasoning': 0}}}, {'content': '6', 'additional_kwargs': {}, 'response_metadata': {}, 'type': 'tool', 'name': 'multiply', 'id': '52aa177a-9d2b-4a75-afc4-35e1fe55bab8', 'tool_call_id': 'call_ZHbmzWSFIAAQORmA5bFvyVsn', 'artifact': None, 'status': 'success'}]})\n",
      "StreamPart(event='values', data={'messages': [{'content': 'Multiply 2 and 3', 'additional_kwargs': {}, 'response_metadata': {}, 'type': 'human', 'name': None, 'id': '5766f691-aaea-4e59-8b99-ba2a5469e7dd'}, {'content': '', 'additional_kwargs': {'refusal': None}, 'response_metadata': {'token_usage': {'completion_tokens': 17, 'prompt_tokens': 134, 'total_tokens': 151, 'completion_tokens_details': {'accepted_prediction_tokens': 0, 'audio_tokens': 0, 'reasoning_tokens': 0, 'rejected_prediction_tokens': 0}, 'prompt_tokens_details': {'audio_tokens': 0, 'cached_tokens': 0}}, 'model_provider': 'openai', 'model_name': 'gpt-4o-2024-08-06', 'system_fingerprint': 'fp_65564d8ba5', 'id': 'chatcmpl-CVJ2X2cWl6UADIPFHzdxOsOd6DD9J', 'service_tier': 'default', 'finish_reason': 'tool_calls', 'logprobs': None}, 'type': 'ai', 'name': None, 'id': 'lc_run--36c151aa-7af1-429b-8974-163565778bbc-0', 'tool_calls': [{'name': 'multiply', 'args': {'a': 2, 'b': 3}, 'id': 'call_ZHbmzWSFIAAQORmA5bFvyVsn', 'type': 'tool_call'}], 'invalid_tool_calls': [], 'usage_metadata': {'input_tokens': 134, 'output_tokens': 17, 'total_tokens': 151, 'input_token_details': {'audio': 0, 'cache_read': 0}, 'output_token_details': {'audio': 0, 'reasoning': 0}}}, {'content': '6', 'additional_kwargs': {}, 'response_metadata': {}, 'type': 'tool', 'name': 'multiply', 'id': '52aa177a-9d2b-4a75-afc4-35e1fe55bab8', 'tool_call_id': 'call_ZHbmzWSFIAAQORmA5bFvyVsn', 'artifact': None, 'status': 'success'}, {'content': 'The result of multiplying 2 and 3 is 6.', 'additional_kwargs': {'refusal': None}, 'response_metadata': {'token_usage': {'completion_tokens': 14, 'prompt_tokens': 159, 'total_tokens': 173, 'completion_tokens_details': {'accepted_prediction_tokens': 0, 'audio_tokens': 0, 'reasoning_tokens': 0, 'rejected_prediction_tokens': 0}, 'prompt_tokens_details': {'audio_tokens': 0, 'cached_tokens': 0}}, 'model_provider': 'openai', 'model_name': 'gpt-4o-2024-08-06', 'system_fingerprint': 'fp_65564d8ba5', 'id': 'chatcmpl-CVJ2YbytCvZoxW6J9brovqN0rli5R', 'service_tier': 'default', 'finish_reason': 'stop', 'logprobs': None}, 'type': 'ai', 'name': None, 'id': 'lc_run--810152ab-c9ef-40a9-9f44-a9a0b1c4fc93-0', 'tool_calls': [], 'invalid_tool_calls': [], 'usage_metadata': {'input_tokens': 159, 'output_tokens': 14, 'total_tokens': 173, 'input_token_details': {'audio': 0, 'cache_read': 0}, 'output_token_details': {'audio': 0, 'reasoning': 0}}}]})\n"
     ]
    }
   ],
   "execution_count": 66
  },
  {
   "cell_type": "markdown",
   "id": "556dc7fd-1cae-404f-816a-f13d772b3b14",
   "metadata": {},
   "source": [
    "The streamed objects have: \n",
    "\n",
    "* `event`: Type\n",
    "* `data`: State"
   ]
  },
  {
   "cell_type": "code",
   "id": "57b735aa-139c-45a3-a850-63519c0004f0",
   "metadata": {
    "ExecuteTime": {
     "end_time": "2025-10-27T15:03:18.879172Z",
     "start_time": "2025-10-27T15:03:15.408023Z"
    }
   },
   "source": [
    "from langchain_core.messages import convert_to_messages\n",
    "thread = await client.threads.create()\n",
    "input_message = HumanMessage(content=\"Multiply 2 and 3\")\n",
    "async for event in client.runs.stream(thread[\"thread_id\"], assistant_id=\"agent\", input={\"messages\": [input_message]}, stream_mode=\"values\"):\n",
    "    messages = event.data.get('messages',None)\n",
    "    if messages:\n",
    "        print(convert_to_messages(messages)[-1])\n",
    "    print('='*25)"
   ],
   "outputs": [
    {
     "name": "stdout",
     "output_type": "stream",
     "text": [
      "=========================\n",
      "content='Multiply 2 and 3' additional_kwargs={} response_metadata={} id='71e4ab3a-5b24-4693-bfca-1c3b4089b90f'\n",
      "=========================\n",
      "content='' additional_kwargs={'invalid_tool_calls': [], 'usage_metadata': {'input_tokens': 134, 'output_tokens': 17, 'total_tokens': 151, 'input_token_details': {'audio': 0, 'cache_read': 0}, 'output_token_details': {'audio': 0, 'reasoning': 0}}, 'refusal': None} response_metadata={'token_usage': {'completion_tokens': 17, 'prompt_tokens': 134, 'total_tokens': 151, 'completion_tokens_details': {'accepted_prediction_tokens': 0, 'audio_tokens': 0, 'reasoning_tokens': 0, 'rejected_prediction_tokens': 0}, 'prompt_tokens_details': {'audio_tokens': 0, 'cached_tokens': 0}}, 'model_provider': 'openai', 'model_name': 'gpt-4o-2024-08-06', 'system_fingerprint': 'fp_65564d8ba5', 'id': 'chatcmpl-CVJ2azUPgYc9IZC69436t1L9qGsRt', 'service_tier': 'default', 'finish_reason': 'tool_calls', 'logprobs': None} id='lc_run--787c9202-1831-4de3-8764-ac996399d4c7-0' tool_calls=[{'name': 'multiply', 'args': {'a': 2, 'b': 3}, 'id': 'call_NkcUmOl3LtPa2eSamKFxYiqL', 'type': 'tool_call'}]\n",
      "=========================\n",
      "content='6' name='multiply' id='5fdea6fc-dabc-42a6-a8ba-b3806d4c9597' tool_call_id='call_NkcUmOl3LtPa2eSamKFxYiqL'\n",
      "=========================\n",
      "content='The result of multiplying 2 and 3 is 6.' additional_kwargs={'invalid_tool_calls': [], 'usage_metadata': {'input_tokens': 159, 'output_tokens': 14, 'total_tokens': 173, 'input_token_details': {'audio': 0, 'cache_read': 0}, 'output_token_details': {'audio': 0, 'reasoning': 0}}, 'refusal': None} response_metadata={'token_usage': {'completion_tokens': 14, 'prompt_tokens': 159, 'total_tokens': 173, 'completion_tokens_details': {'accepted_prediction_tokens': 0, 'audio_tokens': 0, 'reasoning_tokens': 0, 'rejected_prediction_tokens': 0}, 'prompt_tokens_details': {'audio_tokens': 0, 'cached_tokens': 0}}, 'model_provider': 'openai', 'model_name': 'gpt-4o-2024-08-06', 'system_fingerprint': 'fp_65564d8ba5', 'id': 'chatcmpl-CVJ2crO5FzdzkAup9c4poEsj2pOwC', 'service_tier': 'default', 'finish_reason': 'stop', 'logprobs': None} id='lc_run--e949a401-2183-4baa-93c5-4ee82ea45e06-0'\n",
      "=========================\n"
     ]
    }
   ],
   "execution_count": 67
  },
  {
   "cell_type": "markdown",
   "id": "a555d186-27be-4ddf-934c-895a3105035d",
   "metadata": {},
   "source": [
    "There are some new streaming mode that are only supported via the API.\n",
    "\n",
    "For example, we can [use `messages` mode](https://langchain-ai.github.io/langgraph/cloud/how-tos/stream_messages/) to better handle the above case!\n",
    "\n",
    "This mode currently assumes that you have a `messages` key in your graph, which is a list of messages.\n",
    "\n",
    "All events emitted using `messages` mode have two attributes:\n",
    "\n",
    "* `event`: This is the name of the event\n",
    "* `data`: This is data associated with the event"
   ]
  },
  {
   "cell_type": "code",
   "id": "4abd91f6-63c0-41ee-9988-7c8248b88a45",
   "metadata": {
    "ExecuteTime": {
     "end_time": "2025-10-27T15:03:21.235995Z",
     "start_time": "2025-10-27T15:03:18.895387Z"
    }
   },
   "source": [
    "thread = await client.threads.create()\n",
    "input_message = HumanMessage(content=\"Multiply 2 and 3\")\n",
    "async for event in client.runs.stream(thread[\"thread_id\"], \n",
    "                                      assistant_id=\"agent\", \n",
    "                                      input={\"messages\": [input_message]}, \n",
    "                                      stream_mode=\"messages\"):\n",
    "    print(event.event)"
   ],
   "outputs": [
    {
     "name": "stdout",
     "output_type": "stream",
     "text": [
      "metadata\n",
      "messages/metadata\n",
      "messages/partial\n",
      "messages/partial\n",
      "messages/partial\n",
      "messages/partial\n",
      "messages/partial\n",
      "messages/partial\n",
      "messages/partial\n",
      "messages/partial\n",
      "messages/partial\n",
      "messages/partial\n",
      "messages/partial\n",
      "messages/partial\n",
      "messages/partial\n",
      "messages/metadata\n",
      "messages/complete\n",
      "messages/metadata\n",
      "messages/partial\n",
      "messages/partial\n",
      "messages/partial\n",
      "messages/partial\n",
      "messages/partial\n",
      "messages/partial\n",
      "messages/partial\n",
      "messages/partial\n",
      "messages/partial\n",
      "messages/partial\n",
      "messages/partial\n",
      "messages/partial\n",
      "messages/partial\n",
      "messages/partial\n",
      "messages/partial\n",
      "messages/partial\n",
      "messages/partial\n"
     ]
    }
   ],
   "execution_count": 68
  },
  {
   "cell_type": "markdown",
   "id": "8de2f1ea-b232-43fc-af7a-320efce83381",
   "metadata": {},
   "source": [
    "We can see a few events: \n",
    "\n",
    "* `metadata`: metadata about the run\n",
    "* `messages/complete`: fully formed message \n",
    "* `messages/partial`: chat model tokens\n",
    "\n",
    "You can dig further into the types [here](https://langchain-ai.github.io/langgraph/cloud/concepts/api/#modemessages).\n",
    "\n",
    "Now, let's show how to stream these messages. \n",
    "\n",
    "We'll define a helper function for better formatting of the tool calls in messages."
   ]
  },
  {
   "cell_type": "code",
   "id": "50a85e16-6e3f-4f14-bcf9-8889a762f522",
   "metadata": {
    "ExecuteTime": {
     "end_time": "2025-10-27T15:03:24.086106Z",
     "start_time": "2025-10-27T15:03:21.263373Z"
    }
   },
   "source": [
    "thread = await client.threads.create()\n",
    "input_message = HumanMessage(content=\"Multiply 2 and 3\")\n",
    "\n",
    "def format_tool_calls(tool_calls):\n",
    "    \"\"\"\n",
    "    Format a list of tool calls into a readable string.\n",
    "\n",
    "    Args:\n",
    "        tool_calls (list): A list of dictionaries, each representing a tool call.\n",
    "            Each dictionary should have 'id', 'name', and 'args' keys.\n",
    "\n",
    "    Returns:\n",
    "        str: A formatted string of tool calls, or \"No tool calls\" if the list is empty.\n",
    "\n",
    "    \"\"\"\n",
    "\n",
    "    if tool_calls:\n",
    "        formatted_calls = []\n",
    "        for call in tool_calls:\n",
    "            formatted_calls.append(\n",
    "                f\"Tool Call ID: {call['id']}, Function: {call['name']}, Arguments: {call['args']}\"\n",
    "            )\n",
    "        return \"\\n\".join(formatted_calls)\n",
    "    return \"No tool calls\"\n",
    "\n",
    "async for event in client.runs.stream(\n",
    "    thread[\"thread_id\"],\n",
    "    assistant_id=\"agent\",\n",
    "    input={\"messages\": [input_message]},\n",
    "    stream_mode=\"messages\",):\n",
    "    \n",
    "    # Handle metadata events\n",
    "    if event.event == \"metadata\":\n",
    "        print(f\"Metadata: Run ID - {event.data['run_id']}\")\n",
    "        print(\"-\" * 50)\n",
    "    \n",
    "    # Handle partial message events\n",
    "    elif event.event == \"messages/partial\":\n",
    "        for data_item in event.data:\n",
    "            # Process user messages\n",
    "            if \"role\" in data_item and data_item[\"role\"] == \"user\":\n",
    "                print(f\"Human: {data_item['content']}\")\n",
    "            else:\n",
    "                # Extract relevant data from the event\n",
    "                tool_calls = data_item.get(\"tool_calls\", [])\n",
    "                invalid_tool_calls = data_item.get(\"invalid_tool_calls\", [])\n",
    "                content = data_item.get(\"content\", \"\")\n",
    "                response_metadata = data_item.get(\"response_metadata\", {})\n",
    "\n",
    "                if content:\n",
    "                    print(f\"AI: {content}\")\n",
    "\n",
    "                if tool_calls:\n",
    "                    print(\"Tool Calls:\")\n",
    "                    print(format_tool_calls(tool_calls))\n",
    "\n",
    "                if invalid_tool_calls:\n",
    "                    print(\"Invalid Tool Calls:\")\n",
    "                    print(format_tool_calls(invalid_tool_calls))\n",
    "\n",
    "                if response_metadata and response_metadata.get(\"finish_reason\"):\n",
    "                    print(f\"Response Metadata: Finish Reason - {response_metadata['finish_reason']}\")                    \n",
    "        print(\"-\" * 50)"
   ],
   "outputs": [
    {
     "name": "stdout",
     "output_type": "stream",
     "text": [
      "Metadata: Run ID - 019a2631-fbb6-727b-8227-b5a32dfbfab3\n",
      "--------------------------------------------------\n",
      "Tool Calls:\n",
      "Tool Call ID: call_o57Hk8T6kiZmDFWHpXUy9zn8, Function: multiply, Arguments: {}\n",
      "--------------------------------------------------\n",
      "Tool Calls:\n",
      "Tool Call ID: call_o57Hk8T6kiZmDFWHpXUy9zn8, Function: multiply, Arguments: {}\n",
      "--------------------------------------------------\n",
      "Tool Calls:\n",
      "Tool Call ID: call_o57Hk8T6kiZmDFWHpXUy9zn8, Function: multiply, Arguments: {}\n",
      "--------------------------------------------------\n",
      "Tool Calls:\n",
      "Tool Call ID: call_o57Hk8T6kiZmDFWHpXUy9zn8, Function: multiply, Arguments: {}\n",
      "--------------------------------------------------\n",
      "Tool Calls:\n",
      "Tool Call ID: call_o57Hk8T6kiZmDFWHpXUy9zn8, Function: multiply, Arguments: {'a': 2}\n",
      "--------------------------------------------------\n",
      "Tool Calls:\n",
      "Tool Call ID: call_o57Hk8T6kiZmDFWHpXUy9zn8, Function: multiply, Arguments: {'a': 2}\n",
      "--------------------------------------------------\n",
      "Tool Calls:\n",
      "Tool Call ID: call_o57Hk8T6kiZmDFWHpXUy9zn8, Function: multiply, Arguments: {'a': 2}\n",
      "--------------------------------------------------\n",
      "Tool Calls:\n",
      "Tool Call ID: call_o57Hk8T6kiZmDFWHpXUy9zn8, Function: multiply, Arguments: {'a': 2}\n",
      "--------------------------------------------------\n",
      "Tool Calls:\n",
      "Tool Call ID: call_o57Hk8T6kiZmDFWHpXUy9zn8, Function: multiply, Arguments: {'a': 2, 'b': 3}\n",
      "--------------------------------------------------\n",
      "Tool Calls:\n",
      "Tool Call ID: call_o57Hk8T6kiZmDFWHpXUy9zn8, Function: multiply, Arguments: {'a': 2, 'b': 3}\n",
      "--------------------------------------------------\n",
      "Tool Calls:\n",
      "Tool Call ID: call_o57Hk8T6kiZmDFWHpXUy9zn8, Function: multiply, Arguments: {'a': 2, 'b': 3}\n",
      "Response Metadata: Finish Reason - tool_calls\n",
      "--------------------------------------------------\n",
      "Tool Calls:\n",
      "Tool Call ID: call_o57Hk8T6kiZmDFWHpXUy9zn8, Function: multiply, Arguments: {'a': 2, 'b': 3}\n",
      "Response Metadata: Finish Reason - tool_calls\n",
      "--------------------------------------------------\n",
      "Tool Calls:\n",
      "Tool Call ID: call_o57Hk8T6kiZmDFWHpXUy9zn8, Function: multiply, Arguments: {'a': 2, 'b': 3}\n",
      "Response Metadata: Finish Reason - tool_calls\n",
      "--------------------------------------------------\n",
      "--------------------------------------------------\n",
      "AI: The\n",
      "--------------------------------------------------\n",
      "AI: The result\n",
      "--------------------------------------------------\n",
      "AI: The result of\n",
      "--------------------------------------------------\n",
      "AI: The result of multiplying\n",
      "--------------------------------------------------\n",
      "AI: The result of multiplying \n",
      "--------------------------------------------------\n",
      "AI: The result of multiplying 2\n",
      "--------------------------------------------------\n",
      "AI: The result of multiplying 2 and\n",
      "--------------------------------------------------\n",
      "AI: The result of multiplying 2 and \n",
      "--------------------------------------------------\n",
      "AI: The result of multiplying 2 and 3\n",
      "--------------------------------------------------\n",
      "AI: The result of multiplying 2 and 3 is\n",
      "--------------------------------------------------\n",
      "AI: The result of multiplying 2 and 3 is \n",
      "--------------------------------------------------\n",
      "AI: The result of multiplying 2 and 3 is 6\n",
      "--------------------------------------------------\n",
      "AI: The result of multiplying 2 and 3 is 6.\n",
      "--------------------------------------------------\n",
      "AI: The result of multiplying 2 and 3 is 6.\n",
      "Response Metadata: Finish Reason - stop\n",
      "--------------------------------------------------\n",
      "AI: The result of multiplying 2 and 3 is 6.\n",
      "Response Metadata: Finish Reason - stop\n",
      "--------------------------------------------------\n",
      "AI: The result of multiplying 2 and 3 is 6.\n",
      "Response Metadata: Finish Reason - stop\n",
      "--------------------------------------------------\n"
     ]
    }
   ],
   "execution_count": 69
  }
 ],
 "metadata": {
  "kernelspec": {
   "display_name": "Python 3 (ipykernel)",
   "language": "python",
   "name": "python3"
  },
  "language_info": {
   "codemirror_mode": {
    "name": "ipython",
    "version": 3
   },
   "file_extension": ".py",
   "mimetype": "text/x-python",
   "name": "python",
   "nbconvert_exporter": "python",
   "pygments_lexer": "ipython3",
   "version": "3.13.5"
  }
 },
 "nbformat": 4,
 "nbformat_minor": 5
}
