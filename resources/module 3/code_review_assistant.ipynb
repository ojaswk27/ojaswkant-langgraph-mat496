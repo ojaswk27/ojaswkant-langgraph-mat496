{
 "cells": [
  {
   "cell_type": "markdown",
   "metadata": {},
   "source": [
    "# Code Review Assistant - Streaming\n\nDemonstrates streaming with code review tools."
   ],
   "id": "deadc82200a3b520"
  },
  {
   "cell_type": "code",
   "metadata": {
    "ExecuteTime": {
     "end_time": "2025-10-27T18:09:37.054020Z",
     "start_time": "2025-10-27T18:09:36.579456Z"
    }
   },
   "source": [
    "!pip install --quiet -U langgraph langchain-anthropic"
   ],
   "id": "ae14d1d20e26583f",
   "outputs": [
    {
     "name": "stdout",
     "output_type": "stream",
     "text": [
      "\r\n",
      "\u001B[1m[\u001B[0m\u001B[34;49mnotice\u001B[0m\u001B[1;39;49m]\u001B[0m\u001B[39;49m A new release of pip is available: \u001B[0m\u001B[31;49m24.3.1\u001B[0m\u001B[39;49m -> \u001B[0m\u001B[32;49m25.3\u001B[0m\r\n",
      "\u001B[1m[\u001B[0m\u001B[34;49mnotice\u001B[0m\u001B[1;39;49m]\u001B[0m\u001B[39;49m To update, run: \u001B[0m\u001B[32;49mpip install --upgrade pip\u001B[0m\r\n"
     ]
    }
   ],
   "execution_count": 3
  },
  {
   "cell_type": "code",
   "metadata": {
    "ExecuteTime": {
     "end_time": "2025-10-27T18:09:37.067210Z",
     "start_time": "2025-10-27T18:09:37.060077Z"
    }
   },
   "source": [
    "from dotenv import load_dotenv\n",
    "load_dotenv('studio/.env')"
   ],
   "id": "279dfff25a3712b9",
   "outputs": [
    {
     "data": {
      "text/plain": [
       "True"
      ]
     },
     "execution_count": 4,
     "metadata": {},
     "output_type": "execute_result"
    }
   ],
   "execution_count": 4
  },
  {
   "cell_type": "code",
   "metadata": {
    "ExecuteTime": {
     "end_time": "2025-10-27T18:09:37.447767Z",
     "start_time": "2025-10-27T18:09:37.078614Z"
    }
   },
   "source": [
    "from langchain_anthropic import ChatAnthropic\n",
    "from langchain_core.messages import SystemMessage, HumanMessage\n",
    "from langgraph.checkpoint.memory import MemorySaver\n",
    "from langgraph.graph import MessagesState, StateGraph, START\n",
    "from langgraph.prebuilt import tools_condition, ToolNode\n",
    "\n",
    "# Code review tools\n",
    "def check_syntax(code: str) -> str:\n",
    "    \"\"\"Check code for syntax errors.\"\"\"\n",
    "    if \"syntax\" in code.lower():\n",
    "        return \"Syntax error found: Missing semicolon\"\n",
    "    return \"No syntax errors detected\"\n",
    "\n",
    "def check_style(code: str) -> str:\n",
    "    \"\"\"Check code for style compliance.\"\"\"\n",
    "    if len(code) < 10:\n",
    "        return \"Code too short for style analysis\"\n",
    "    return \"Style check passed: Code follows PEP8 guidelines\"\n",
    "\n",
    "def suggest_improvements(code: str) -> str:\n",
    "    \"\"\"Suggest code improvements.\"\"\"\n",
    "    return \"Consider adding:\\n- Type hints\\n- Docstrings\\n- Better variable names\"\n",
    "\n",
    "tools = [check_syntax, check_style, suggest_improvements]\n",
    "llm = ChatAnthropic(model=\"claude-3-5-haiku-20241022\")\n",
    "llm_with_tools = llm.bind_tools(tools)\n",
    "sys_msg = SystemMessage(content=\"You are a code review assistant analyzing code quality.\")"
   ],
   "id": "527d7a7e36925798",
   "outputs": [],
   "execution_count": 5
  },
  {
   "cell_type": "code",
   "metadata": {
    "ExecuteTime": {
     "end_time": "2025-10-27T18:09:37.456143Z",
     "start_time": "2025-10-27T18:09:37.450306Z"
    }
   },
   "source": [
    "# Build graph\n",
    "def assistant(state: MessagesState):\n",
    "    return {\"messages\": [llm_with_tools.invoke([sys_msg] + state[\"messages\"])]}\n",
    "\n",
    "builder = StateGraph(MessagesState)\n",
    "builder.add_node(\"assistant\", assistant)\n",
    "builder.add_node(\"tools\", ToolNode(tools))\n",
    "builder.add_edge(START, \"assistant\")\n",
    "builder.add_conditional_edges(\"assistant\", tools_condition)\n",
    "builder.add_edge(\"tools\", \"assistant\")\n",
    "\n",
    "memory = MemorySaver()\n",
    "graph = builder.compile(checkpointer=memory)"
   ],
   "id": "608650c0fb2a41eb",
   "outputs": [],
   "execution_count": 6
  },
  {
   "cell_type": "code",
   "metadata": {
    "ExecuteTime": {
     "end_time": "2025-10-27T18:09:47.745245Z",
     "start_time": "2025-10-27T18:09:37.457956Z"
    }
   },
   "source": [
    "# Test: Review Python code\n",
    "config = {\"configurable\": {\"thread_id\": 1}}\n",
    "for event in graph.stream(\n",
    "    {\"messages\": [HumanMessage(content=\"Review this code: def calculate(x): return x*2\")]},\n",
    "    config,\n",
    "    stream_mode=\"values\"\n",
    "):\n",
    "    event[\"messages\"][-1].pretty_print()"
   ],
   "id": "cfb25d24ec26eaa9",
   "outputs": [
    {
     "name": "stdout",
     "output_type": "stream",
     "text": [
      "================================\u001B[1m Human Message \u001B[0m=================================\n",
      "\n",
      "Review this code: def calculate(x): return x*2\n",
      "==================================\u001B[1m Ai Message \u001B[0m==================================\n",
      "\n",
      "[{'text': \"I'll help you review this code by checking its syntax, style, and potentially suggesting improvements.\\n\\nFirst, I'll check the syntax:\", 'type': 'text'}, {'id': 'toolu_01YHEWcK6ftGzjGj4C66brQ1', 'input': {'code': 'def calculate(x): return x*2'}, 'name': 'check_syntax', 'type': 'tool_use'}]\n",
      "Tool Calls:\n",
      "  check_syntax (toolu_01YHEWcK6ftGzjGj4C66brQ1)\n",
      " Call ID: toolu_01YHEWcK6ftGzjGj4C66brQ1\n",
      "  Args:\n",
      "    code: def calculate(x): return x*2\n",
      "=================================\u001B[1m Tool Message \u001B[0m=================================\n",
      "Name: check_syntax\n",
      "\n",
      "No syntax errors detected\n",
      "==================================\u001B[1m Ai Message \u001B[0m==================================\n",
      "\n",
      "[{'text': \"Now, I'll check the style:\", 'type': 'text'}, {'id': 'toolu_01HgSrAq65WaUAmrF3agosT5', 'input': {'code': 'def calculate(x): return x*2'}, 'name': 'check_style', 'type': 'tool_use'}]\n",
      "Tool Calls:\n",
      "  check_style (toolu_01HgSrAq65WaUAmrF3agosT5)\n",
      " Call ID: toolu_01HgSrAq65WaUAmrF3agosT5\n",
      "  Args:\n",
      "    code: def calculate(x): return x*2\n",
      "=================================\u001B[1m Tool Message \u001B[0m=================================\n",
      "Name: check_style\n",
      "\n",
      "Style check passed: Code follows PEP8 guidelines\n",
      "==================================\u001B[1m Ai Message \u001B[0m==================================\n",
      "\n",
      "[{'text': \"Let's see if there are any potential improvements:\", 'type': 'text'}, {'id': 'toolu_01MWdnuSLjZvighyP66WksWr', 'input': {'code': 'def calculate(x): return x*2'}, 'name': 'suggest_improvements', 'type': 'tool_use'}]\n",
      "Tool Calls:\n",
      "  suggest_improvements (toolu_01MWdnuSLjZvighyP66WksWr)\n",
      " Call ID: toolu_01MWdnuSLjZvighyP66WksWr\n",
      "  Args:\n",
      "    code: def calculate(x): return x*2\n",
      "=================================\u001B[1m Tool Message \u001B[0m=================================\n",
      "Name: suggest_improvements\n",
      "\n",
      "Consider adding:\n",
      "- Type hints\n",
      "- Docstrings\n",
      "- Better variable names\n",
      "==================================\u001B[1m Ai Message \u001B[0m==================================\n",
      "\n",
      "Review Summary:\n",
      "1. Syntax: ✅ No syntax errors detected\n",
      "2. Style: ✅ Follows PEP8 guidelines\n",
      "3. Improvements Suggested:\n",
      "   - Add type hints (e.g., `def calculate(x: int) -> int:`)\n",
      "   - Include a docstring to explain the function's purpose\n",
      "   - Consider a more descriptive function and parameter name\n",
      "\n",
      "Here's an improved version:\n",
      "```python\n",
      "def multiply_by_two(number: int) -> int:\n",
      "    \"\"\"\n",
      "    Multiply the input number by 2.\n",
      "    \n",
      "    Args:\n",
      "        number (int): The number to be multiplied\n",
      "    \n",
      "    Returns:\n",
      "        int: The result of multiplying the input by 2\n",
      "    \"\"\"\n",
      "    return number * 2\n",
      "```\n",
      "\n",
      "The improved version:\n",
      "- Uses a more descriptive function name\n",
      "- Adds type hints\n",
      "- Includes a clear docstring explaining the function's purpose\n",
      "- Maintains the original simple logic of multiplying by 2\n",
      "\n",
      "Would you like me to elaborate on any of these points?\n"
     ]
    }
   ],
   "execution_count": 7
  }
 ],
 "metadata": {
  "kernelspec": {
   "display_name": "Python 3",
   "language": "python",
   "name": "python3"
  },
  "language_info": {
   "name": "python",
   "version": "3.11.0"
  }
 },
 "nbformat": 4,
 "nbformat_minor": 5
}
