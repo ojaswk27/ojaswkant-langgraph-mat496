{
 "cells": [
  {
   "cell_type": "markdown",
   "id": "4cbf2458",
   "metadata": {},
   "source": [
    "[![Open in Colab](https://colab.research.google.com/assets/colab-badge.svg)](https://colab.research.google.com/github/langchain-ai/langchain-academy/blob/main/module-1/chain.ipynb) [![Open in LangChain Academy](https://cdn.prod.website-files.com/65b8cd72835ceeacd4449a53/66e9eba12c7b7688aa3dbb5e_LCA-badge-green.svg)](https://academy.langchain.com/courses/take/intro-to-langgraph/lessons/58238466-lesson-4-chain)"
   ]
  },
  {
   "attachments": {},
   "cell_type": "markdown",
   "id": "ee55d3da-c53a-4c76-b46f-8e0d602e072e",
   "metadata": {},
   "source": [
    "# Chain (Anthropic Version)\n",
    "\n",
    "## Review\n",
    "\n",
    "We built a simple graph with nodes, normal edges, and conditional edges.\n",
    "\n",
    "## Goals\n",
    "\n",
    "Now, let's build up to a simple chain that combines 4 [concepts](https://python.langchain.com/v0.2/docs/concepts/):\n",
    "\n",
    "* Using [chat messages](https://python.langchain.com/v0.2/docs/concepts/#messages) as our graph state\n",
    "* Using [chat models](https://python.langchain.com/v0.2/docs/concepts/#chat-models) in graph nodes\n",
    "* [Binding tools](https://python.langchain.com/v0.2/docs/concepts/#tools) to our chat model\n",
    "* [Executing tool calls](https://python.langchain.com/v0.2/docs/concepts/#functiontool-calling) in graph nodes \n",
    "\n",
    "![Screenshot 2024-08-21 at 9.24.03 AM.png](https://cdn.prod.website-files.com/65b8cd72835ceeacd4449a53/66dbab08dd607b08df5e1101_chain1.png)"
   ]
  },
  {
   "cell_type": "code",
   "id": "a55e2e80-a718-4aaf-99b9-371157b34a4b",
   "metadata": {},
   "source": [
    "%%capture --no-stderr\n",
    "%pip install --quiet -U langchain_anthropic langchain_core langgraph"
   ],
   "outputs": [],
   "execution_count": null
  },
  {
   "cell_type": "markdown",
   "id": "ae5ac2d0-c7b0-4a20-86e5-4b6ed15ec20e",
   "metadata": {},
   "source": [
    "## Messages\n",
    "\n",
    "Chat models can use [`messages`](https://python.langchain.com/v0.2/docs/concepts/#messages), which capture different roles within a conversation. \n",
    "\n",
    "LangChain supports various message types, including `HumanMessage`, `AIMessage`, `SystemMessage`, and `ToolMessage`. \n",
    "\n",
    "These represent a message from the user, from chat model, for the chat model to instruct behavior, and from a tool call. \n",
    "\n",
    "Let's create a list of messages. \n",
    "\n",
    "Each message can be supplied with a few things:\n",
    "\n",
    "* `content` - content of the message\n",
    "* `name` - optionally, a message author \n",
    "* `response_metadata` - optionally, a dict of metadata (e.g., often populated by model provider for `AIMessages`)"
   ]
  },
  {
   "metadata": {
    "ExecuteTime": {
     "end_time": "2025-10-16T14:34:14.732575Z",
     "start_time": "2025-10-16T14:34:14.728819Z"
    }
   },
   "cell_type": "code",
   "source": [
    "from pprint import pprint\n",
    "from langchain_core.messages import AIMessage, HumanMessage\n",
    "\n",
    "messages = [AIMessage(content=\"Are you interested in learning about planets?\", name=\"Model\")]\n",
    "messages.append(HumanMessage(content=\"Yes, especially Mars.\", name=\"Alex\"))\n",
    "messages.append(AIMessage(content=\"Mars is fascinating! What would you like to know?\", name=\"Model\"))\n",
    "messages.append(HumanMessage(content=\"Tell me about the possibility of life on Mars.\", name=\"Alex\"))\n",
    "\n",
    "\n",
    "for m in messages:\n",
    "    m.pretty_print()"
   ],
   "id": "edffc9f90ce91365",
   "outputs": [
    {
     "name": "stdout",
     "output_type": "stream",
     "text": [
      "==================================\u001B[1m Ai Message \u001B[0m==================================\n",
      "Name: Model\n",
      "\n",
      "Are you interested in learning about planets?\n",
      "================================\u001B[1m Human Message \u001B[0m=================================\n",
      "Name: Alex\n",
      "\n",
      "Yes, especially Mars.\n",
      "==================================\u001B[1m Ai Message \u001B[0m==================================\n",
      "Name: Model\n",
      "\n",
      "Mars is fascinating! What would you like to know?\n",
      "================================\u001B[1m Human Message \u001B[0m=================================\n",
      "Name: Alex\n",
      "\n",
      "Tell me about the possibility of life on Mars.\n"
     ]
    }
   ],
   "execution_count": 20
  },
  {
   "cell_type": "markdown",
   "id": "0ca48df0-b639-4ff1-a777-ffe2185d991e",
   "metadata": {},
   "source": [
    "## Chat Models\n",
    "\n",
    "[Chat models](https://python.langchain.com/v0.2/docs/concepts/#chat-models) can use a sequence of message as input and support message types, as discussed above.\n",
    "\n",
    "There are [many](https://python.langchain.com/v0.2/docs/concepts/#chat-models) to choose from! Let's work with Anthropic Claude. \n",
    "\n",
    "Let's check that your `ANTHROPIC_API_KEY` is set and, if not, you will be asked to enter it."
   ]
  },
  {
   "metadata": {
    "ExecuteTime": {
     "end_time": "2025-10-16T14:34:18.434740Z",
     "start_time": "2025-10-16T14:34:18.428596Z"
    }
   },
   "cell_type": "code",
   "source": [
    "import os\n",
    "from dotenv import load_dotenv\n",
    "\n",
    "# Load environment variables from .env file inside a folder\n",
    "# Replace 'your_folder_name' with the actual folder name\n",
    "load_dotenv('studio/.env')\n",
    "\n",
    "# The API key will now be automatically loaded from your .env file\n",
    "# Make sure your .env file contains: ANTHROPIC_API_KEY=your-api-key-here"
   ],
   "id": "3cb50f5bc69ff9a",
   "outputs": [
    {
     "data": {
      "text/plain": [
       "True"
      ]
     },
     "execution_count": 21,
     "metadata": {},
     "output_type": "execute_result"
    }
   ],
   "execution_count": 21
  },
  {
   "metadata": {},
   "cell_type": "markdown",
   "source": [
    "We can load a chat model and invoke it with our list of messages.\n",
    "\n",
    "We can see that the result is an `AIMessage` with specific `response_metadata`."
   ],
   "id": "d0dcbd2ab1aa4682"
  },
  {
   "metadata": {
    "ExecuteTime": {
     "end_time": "2025-10-16T14:34:31.984636Z",
     "start_time": "2025-10-16T14:34:24.168167Z"
    }
   },
   "cell_type": "code",
   "source": [
    "from langchain_anthropic import ChatAnthropic\n",
    "\n",
    "# Using Claude 3.5 Sonnet - you can also use:\n",
    "# - \"claude-3-opus-20240229\" for most powerful\n",
    "# - \"claude-3-haiku-20240307\" for fastest/cheapest\n",
    "llm = ChatAnthropic(model=\"claude-sonnet-4-20250514\", temperature=0)\n",
    "result = llm.invoke(messages)\n",
    "type(result)"
   ],
   "id": "ec581ab670395141",
   "outputs": [
    {
     "data": {
      "text/plain": [
       "langchain_core.messages.ai.AIMessage"
      ]
     },
     "execution_count": 22,
     "metadata": {},
     "output_type": "execute_result"
    }
   ],
   "execution_count": 22
  },
  {
   "metadata": {
    "ExecuteTime": {
     "end_time": "2025-10-16T14:34:33.836705Z",
     "start_time": "2025-10-16T14:34:33.832139Z"
    }
   },
   "cell_type": "code",
   "source": "result",
   "id": "6e2d6d0019696b7f",
   "outputs": [
    {
     "data": {
      "text/plain": [
       "AIMessage(content=\"The possibility of life on Mars is one of the most exciting questions in astrobiology! Here's what we know:\\n\\n**Evidence that makes life possible:**\\n- Mars once had liquid water on its surface billions of years ago\\n- We've found evidence of ancient riverbeds, lakes, and possibly oceans\\n- Mars still has water ice at its poles and likely underground\\n- The planet contains organic molecules (carbon-based compounds)\\n- Some areas may have had habitable conditions in the past\\n\\n**Current search efforts:**\\n- NASA's Perseverance rover is actively searching for signs of ancient microbial life\\n- It's collecting rock samples that will eventually be returned to Earth for detailed analysis\\n- Previous missions found methane in Mars' atmosphere, which could potentially indicate biological activity\\n\\n**Challenges for life:**\\n- Mars has a very thin atmosphere and harsh radiation\\n- Surface temperatures are extremely cold\\n- Any life would most likely be microbial and possibly underground\\n\\n**The big question:** We haven't found definitive proof of life yet, but many scientists are optimistic that we might discover evidence of past microbial life, especially as we get those rock samples back to Earth in the 2030s.\\n\\nWhat aspect of potential Martian life interests you most - past life, current possibilities, or the search methods?\", additional_kwargs={}, response_metadata={'id': 'msg_018hqSgpotpf3sH4QAuqqFzD', 'model': 'claude-sonnet-4-20250514', 'stop_reason': 'end_turn', 'stop_sequence': None, 'usage': {'cache_creation': {'ephemeral_1h_input_tokens': 0, 'ephemeral_5m_input_tokens': 0}, 'cache_creation_input_tokens': 0, 'cache_read_input_tokens': 0, 'input_tokens': 62, 'output_tokens': 282, 'server_tool_use': None, 'service_tier': 'standard'}, 'model_name': 'claude-sonnet-4-20250514'}, id='run--5693a70c-ec42-48ce-9fe5-3ad1f992a254-0', usage_metadata={'input_tokens': 62, 'output_tokens': 282, 'total_tokens': 344, 'input_token_details': {'cache_read': 0, 'cache_creation': 0, 'ephemeral_5m_input_tokens': 0, 'ephemeral_1h_input_tokens': 0}})"
      ]
     },
     "execution_count": 23,
     "metadata": {},
     "output_type": "execute_result"
    }
   ],
   "execution_count": 23
  },
  {
   "cell_type": "code",
   "id": "c3a29654-6b8e-4eda-9cec-22fabb9b8620",
   "metadata": {
    "ExecuteTime": {
     "end_time": "2025-10-16T14:34:39.306675Z",
     "start_time": "2025-10-16T14:34:39.302553Z"
    }
   },
   "source": [
    "result.response_metadata"
   ],
   "outputs": [
    {
     "data": {
      "text/plain": [
       "{'id': 'msg_018hqSgpotpf3sH4QAuqqFzD',\n",
       " 'model': 'claude-sonnet-4-20250514',\n",
       " 'stop_reason': 'end_turn',\n",
       " 'stop_sequence': None,\n",
       " 'usage': {'cache_creation': {'ephemeral_1h_input_tokens': 0,\n",
       "   'ephemeral_5m_input_tokens': 0},\n",
       "  'cache_creation_input_tokens': 0,\n",
       "  'cache_read_input_tokens': 0,\n",
       "  'input_tokens': 62,\n",
       "  'output_tokens': 282,\n",
       "  'server_tool_use': None,\n",
       "  'service_tier': 'standard'},\n",
       " 'model_name': 'claude-sonnet-4-20250514'}"
      ]
     },
     "execution_count": 24,
     "metadata": {},
     "output_type": "execute_result"
    }
   ],
   "execution_count": 24
  },
  {
   "attachments": {},
   "cell_type": "markdown",
   "id": "4718bd5c-5314-4405-a164-f1fe912ae306",
   "metadata": {},
   "source": [
    "## Tools\n",
    "\n",
    "Tools are useful whenever you want a model to interact with external systems.\n",
    "\n",
    "External systems (e.g., APIs) often require a particular input schema or payload, rather than natural language. \n",
    "\n",
    "When we bind an API, for example, as a tool we given the model awareness of the required input schema.\n",
    "\n",
    "The model will choose to call a tool based upon the natural language input from the user. \n",
    "\n",
    "And, it will return an output that adheres to the tool's schema. \n",
    "\n",
    "[Many LLM providers support tool calling](https://python.langchain.com/v0.1/docs/integrations/chat/) including Anthropic, and [tool calling interface](https://blog.langchain.dev/improving-core-tool-interfaces-and-docs-in-langchain/) in LangChain is simple. \n",
    " \n",
    "You can simply pass any Python `function` into `ChatModel.bind_tools(function)`.\n",
    "\n",
    "![Screenshot 2024-08-19 at 7.46.28 PM.png](https://cdn.prod.website-files.com/65b8cd72835ceeacd4449a53/66dbab08dc1c17a7a57f9960_chain2.png)"
   ]
  },
  {
   "cell_type": "markdown",
   "id": "17a942b1",
   "metadata": {},
   "source": [
    "Let's showcase a simple example of tool calling!\n",
    " \n",
    "The `multiply` function is our tool."
   ]
  },
  {
   "metadata": {
    "ExecuteTime": {
     "end_time": "2025-10-16T14:37:36.513869Z",
     "start_time": "2025-10-16T14:37:36.508006Z"
    }
   },
   "cell_type": "code",
   "source": [
    "def multiply(a: int, b: int) -> int:\n",
    "    \"\"\"Multiply a and b.\n",
    "\n",
    "    Args:\n",
    "        a: first int\n",
    "        b: second int\n",
    "    \"\"\"\n",
    "    return a * b\n",
    "\n",
    "llm_with_tools = llm.bind_tools([multiply])"
   ],
   "id": "8626f7a6720bbd86",
   "outputs": [],
   "execution_count": 38
  },
  {
   "metadata": {},
   "cell_type": "markdown",
   "source": [
    "If we pass an input - e.g., `\"What is 2 multiplied by 3\"` - we see a tool call returned. \n",
    "\n",
    "The tool call has specific arguments that match the input schema of our function along with the name of the function to call.\n",
    "\n",
    "```\n",
    "{'arguments': '{\"a\":2,\"b\":3}', 'name': 'multiply'}\n",
    "```"
   ],
   "id": "e40d1426fbe50000"
  },
  {
   "metadata": {
    "ExecuteTime": {
     "end_time": "2025-10-16T14:37:54.341705Z",
     "start_time": "2025-10-16T14:37:51.639240Z"
    }
   },
   "cell_type": "code",
   "source": "tool_call = llm_with_tools.invoke([HumanMessage(content=f\"What is 2 multiplied by 3\", name=\"Lance\")])",
   "id": "15a8feb6bc4349a0",
   "outputs": [],
   "execution_count": 43
  },
  {
   "metadata": {
    "ExecuteTime": {
     "end_time": "2025-10-16T14:37:55.359756Z",
     "start_time": "2025-10-16T14:37:55.356057Z"
    }
   },
   "cell_type": "code",
   "source": "tool_call.tool_calls",
   "id": "900cd9af05e49774",
   "outputs": [
    {
     "data": {
      "text/plain": [
       "[{'name': 'multiply',\n",
       "  'args': {'a': 2, 'b': 3},\n",
       "  'id': 'toolu_01BukwM8qpEyhnmceBVe2drQ',\n",
       "  'type': 'tool_call'}]"
      ]
     },
     "execution_count": 45,
     "metadata": {},
     "output_type": "execute_result"
    }
   ],
   "execution_count": 45
  },
  {
   "metadata": {},
   "cell_type": "markdown",
   "source": [
    "## Using messages as state\n",
    "\n",
    "With these foundations in place, we can now use [`messages`](https://python.langchain.com/v0.2/docs/concepts/#messages) in our graph state.\n",
    "\n",
    "Let's define our state, `MessagesState`, as a `TypedDict` with a single key: `messages`.\n",
    "\n",
    "`messages` is simply a list of messages, as we defined above (e.g., `HumanMessage`, etc)."
   ],
   "id": "9dd4e1bc52adb530"
  },
  {
   "metadata": {
    "ExecuteTime": {
     "end_time": "2025-10-16T14:37:57.688465Z",
     "start_time": "2025-10-16T14:37:57.685557Z"
    }
   },
   "cell_type": "code",
   "source": [
    "from typing_extensions import TypedDict\n",
    "from langchain_core.messages import AnyMessage\n",
    "\n",
    "class MessagesState(TypedDict):\n",
    "    messages: list[AnyMessage]"
   ],
   "id": "66a5454f69e45be0",
   "outputs": [],
   "execution_count": 46
  },
  {
   "cell_type": "markdown",
   "id": "211cba3e-ebba-4b91-a539-1cbc28b4a40e",
   "metadata": {},
   "source": [
    "## Reducers\n",
    "\n",
    "Now, we have a minor problem! \n",
    "\n",
    "As we discussed, each node will return a new value for our state key `messages`.\n",
    "\n",
    "But, this new value [will override](https://langchain-ai.github.io/langgraph/concepts/low_level/#reducers) the prior `messages` value.\n",
    " \n",
    "As our graph runs, we want to **append** messages to our `messages` state key.\n",
    " \n",
    "We can use [reducer functions](https://langchain-ai.github.io/langgraph/concepts/low_level/#reducers) to address this.\n",
    "\n",
    "Reducers allow us to specify how state updates are performed.\n",
    "\n",
    "If no reducer function is specified, then it is assumed that updates to the key should *override it* as we saw before.\n",
    " \n",
    "But, to append messages, we can use the pre-built `add_messages` reducer.\n",
    "\n",
    "This ensures that any messages are appended to the existing list of messages.\n",
    "\n",
    "We simply need to annotate our `messages` key with the `add_messages` reducer function as metadata."
   ]
  },
  {
   "cell_type": "code",
   "id": "6b33eb72-3197-4870-b9a3-0da8056c40c5",
   "metadata": {
    "ExecuteTime": {
     "end_time": "2025-10-16T14:37:59.759679Z",
     "start_time": "2025-10-16T14:37:59.757168Z"
    }
   },
   "source": [
    "from typing import Annotated\n",
    "from langgraph.graph.message import add_messages\n",
    "\n",
    "class MessagesState(TypedDict):\n",
    "    messages: Annotated[list[AnyMessage], add_messages]"
   ],
   "outputs": [],
   "execution_count": 47
  },
  {
   "cell_type": "markdown",
   "id": "3663e574-ba15-46be-a37c-48c8052d693b",
   "metadata": {},
   "source": [
    "Since having a list of messages in graph state is so common, LangGraph has a pre-built [`MessagesState`](https://langchain-ai.github.io/langgraph/concepts/low_level/#messagesstate)! \n",
    "\n",
    "`MessagesState` is defined: \n",
    "\n",
    "* With a pre-build single `messages` key\n",
    "* This is a list of `AnyMessage` objects \n",
    "* It uses the `add_messages` reducer\n",
    "\n",
    "We'll usually use `MessagesState` because it is less verbose than defining a custom `TypedDict`, as shown above."
   ]
  },
  {
   "cell_type": "code",
   "id": "9ab516ee-eab1-4856-8210-99f1fe499672",
   "metadata": {
    "ExecuteTime": {
     "end_time": "2025-10-16T14:38:01.225573Z",
     "start_time": "2025-10-16T14:38:01.222851Z"
    }
   },
   "source": [
    "from langgraph.graph import MessagesState\n",
    "\n",
    "class MessagesState(MessagesState):\n",
    "    # Add any keys needed beyond messages, which is pre-built \n",
    "    pass"
   ],
   "outputs": [],
   "execution_count": 48
  },
  {
   "cell_type": "markdown",
   "id": "36b0fff7-60a2-4582-8f12-3a3ab6633d6c",
   "metadata": {},
   "source": [
    "To go a bit deeper, we can see how the `add_messages` reducer works in isolation."
   ]
  },
  {
   "metadata": {
    "ExecuteTime": {
     "end_time": "2025-10-16T14:39:24.161495Z",
     "start_time": "2025-10-16T14:39:24.158753Z"
    }
   },
   "cell_type": "code",
   "source": [
    "# Initial state\n",
    "initial_messages = [\n",
    "    AIMessage(content=\"Welcome to the math help desk!\", name=\"Model\"),\n",
    "    HumanMessage(content=\"Can you help me with calculus?\", name=\"Alex\")\n",
    "]\n",
    "\n",
    "# New message to add\n",
    "new_message = AIMessage(content=\"Of course! What calculus topic are you struggling with?\", name=\"Model\")\n",
    "\n",
    "# Test\n",
    "add_messages(initial_messages, new_message)\n"
   ],
   "id": "9d1e23facfb3ed8f",
   "outputs": [
    {
     "data": {
      "text/plain": [
       "[AIMessage(content='Welcome to the math help desk!', additional_kwargs={}, response_metadata={}, name='Model', id='fdc04ae6-172c-4cf4-9f5d-8abab53c2c64'),\n",
       " HumanMessage(content='Can you help me with calculus?', additional_kwargs={}, response_metadata={}, name='Alex', id='66c02714-2fef-4533-a247-959a86aa1f6b'),\n",
       " AIMessage(content='Of course! What calculus topic are you struggling with?', additional_kwargs={}, response_metadata={}, name='Model', id='d723213b-f5db-418a-a307-a7dc387250f9')]"
      ]
     },
     "execution_count": 50,
     "metadata": {},
     "output_type": "execute_result"
    }
   ],
   "execution_count": 50
  },
  {
   "metadata": {},
   "cell_type": "markdown",
   "source": [
    "## Our graph\n",
    "\n",
    "Now, let's use `MessagesState` with a graph."
   ],
   "id": "f460680968ce0662"
  },
  {
   "metadata": {
    "ExecuteTime": {
     "end_time": "2025-10-16T14:39:36.419813Z",
     "start_time": "2025-10-16T14:39:36.358463Z"
    }
   },
   "cell_type": "code",
   "source": [
    "from IPython.display import Image, display\n",
    "from langgraph.graph import StateGraph, START, END\n",
    "    \n",
    "# Node\n",
    "def tool_calling_llm(state: MessagesState):\n",
    "    return {\"messages\": [llm_with_tools.invoke(state[\"messages\"])]}\n",
    "\n",
    "# Build graph\n",
    "builder = StateGraph(MessagesState)\n",
    "builder.add_node(\"tool_calling_llm\", tool_calling_llm)\n",
    "builder.add_edge(START, \"tool_calling_llm\")\n",
    "builder.add_edge(\"tool_calling_llm\", END)\n",
    "graph = builder.compile()\n",
    "\n",
    "# View\n",
    "display(Image(graph.get_graph().draw_mermaid_png()))"
   ],
   "id": "a70496825385e208",
   "outputs": [
    {
     "data": {
      "image/png": "[encoded data removed]",
      "text/plain": [
       "<IPython.core.display.Image object>"
      ]
     },
     "metadata": {},
     "output_type": "display_data",
     "jetTransient": {
      "display_id": null
     }
    }
   ],
   "execution_count": 51
  },
  {
   "cell_type": "markdown",
   "id": "e8909771-7786-47d6-a53d-6bbc3b365737",
   "metadata": {},
   "source": [
    "If we pass in `Hello!`, the LLM responds without any tool calls."
   ]
  },
  {
   "metadata": {
    "ExecuteTime": {
     "end_time": "2025-10-16T14:39:43.011187Z",
     "start_time": "2025-10-16T14:39:40.233717Z"
    }
   },
   "cell_type": "code",
   "source": [
    "messages = graph.invoke({\"messages\": HumanMessage(content=\"Hello!\")})\n",
    "for m in messages['messages']:\n",
    "    m.pretty_print()"
   ],
   "id": "5218e990d05e5d51",
   "outputs": [
    {
     "name": "stdout",
     "output_type": "stream",
     "text": [
      "================================\u001B[1m Human Message \u001B[0m=================================\n",
      "\n",
      "Hello!\n",
      "==================================\u001B[1m Ai Message \u001B[0m==================================\n",
      "\n",
      "Hello! How can I help you today? I have access to a multiplication function if you need to multiply any numbers together, or feel free to ask me about anything else!\n"
     ]
    }
   ],
   "execution_count": 52
  },
  {
   "cell_type": "markdown",
   "id": "3588688b-efd9-4dbc-abf2-7903e3ef89ba",
   "metadata": {},
   "source": [
    "The LLM chooses to use a tool when it determines that the input or task requires the functionality provided by that tool."
   ]
  },
  {
   "cell_type": "code",
   "id": "7fe8b042-ecc8-426f-995e-cc1bbaf7cacc",
   "metadata": {
    "ExecuteTime": {
     "end_time": "2025-10-16T14:39:48.962269Z",
     "start_time": "2025-10-16T14:39:45.378166Z"
    }
   },
   "source": [
    "messages = graph.invoke({\"messages\": HumanMessage(content=\"Multiply 2 and 3\")})\n",
    "for m in messages['messages']:\n",
    "    m.pretty_print()"
   ],
   "outputs": [
    {
     "name": "stdout",
     "output_type": "stream",
     "text": [
      "================================\u001B[1m Human Message \u001B[0m=================================\n",
      "\n",
      "Multiply 2 and 3\n",
      "==================================\u001B[1m Ai Message \u001B[0m==================================\n",
      "\n",
      "[{'text': \"I'll multiply 2 and 3 for you.\", 'type': 'text'}, {'id': 'toolu_018UfxSaGSrbqtf4fiDBDi7M', 'input': {'a': 2, 'b': 3}, 'name': 'multiply', 'type': 'tool_use'}]\n",
      "Tool Calls:\n",
      "  multiply (toolu_018UfxSaGSrbqtf4fiDBDi7M)\n",
      " Call ID: toolu_018UfxSaGSrbqtf4fiDBDi7M\n",
      "  Args:\n",
      "    a: 2\n",
      "    b: 3\n"
     ]
    }
   ],
   "execution_count": 53
  }
 ],
 "metadata": {
  "kernelspec": {
   "display_name": "Python 3",
   "language": "python",
   "name": "python3"
  },
  "language_info": {
   "codemirror_mode": {
    "name": "ipython",
    "version": 3
   },
   "file_extension": ".py",
   "mimetype": "text/x-python",
   "name": "python",
   "nbconvert_exporter": "python",
   "pygments_lexer": "ipython3",
   "version": "3.11.8"
  }
 },
 "nbformat": 4,
 "nbformat_minor": 5
}
