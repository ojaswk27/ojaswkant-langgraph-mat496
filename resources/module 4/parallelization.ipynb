{
 "cells": [
  {
   "cell_type": "markdown",
   "id": "0d0e279f",
   "metadata": {
    "editable": true,
    "slideshow": {
     "slide_type": ""
    },
    "tags": []
   },
   "source": [
    "[![Open in Colab](https://colab.research.google.com/assets/colab-badge.svg)](https://colab.research.google.com/github/langchain-ai/langchain-academy/blob/main/module-4/parallelization.ipynb) [![Open in LangChain Academy](https://cdn.prod.website-files.com/65b8cd72835ceeacd4449a53/66e9eba12c7b7688aa3dbb5e_LCA-badge-green.svg)](https://academy.langchain.com/courses/take/intro-to-langgraph/lessons/58239934-lesson-1-parallelization)"
   ]
  },
  {
   "cell_type": "markdown",
   "id": "f4169bfb-769a-4db3-833e-c827f19024b2",
   "metadata": {
    "editable": true,
    "slideshow": {
     "slide_type": ""
    },
    "tags": []
   },
   "source": [
    "# Parallel node execution\n",
    "\n",
    "## Review\n",
    "\n",
    "In module 3, we went in-depth on `human-in-the loop`, showing 3 common use-cases:\n",
    "\n",
    "(1) `Approval` - We can interrupt our agent, surface state to a user, and allow the user to accept an action\n",
    "\n",
    "(2) `Debugging` - We can rewind the graph to reproduce or avoid issues\n",
    "\n",
    "(3) `Editing` - You can modify the state \n",
    "\n",
    "## Goals\n",
    "\n",
    "This module will build on `human-in-the-loop` as well as the `memory` concepts discussed in module 2.\n",
    "\n",
    "We will dive into `multi-agent` workflows and build up to a multi-agent research assistant that ties together all of the modules from this course.\n",
    "\n",
    "To build this multi-agent research assistant, we'll first discuss a few LangGraph controllability topics.\n",
    "\n",
    "We'll start with [parallelization](https://docs.langchain.com/oss/python/langgraph/how-tos/graph-api#create-branches).\n",
    "\n",
    "## Fan out and fan in\n",
    "\n",
    "Let's build a simple linear graph that over-writes the state at each step."
   ]
  },
  {
   "cell_type": "code",
   "id": "618eab5c-4ef7-4273-8e0b-a9c847897ed7",
   "metadata": {
    "editable": true,
    "slideshow": {
     "slide_type": ""
    },
    "tags": [],
    "ExecuteTime": {
     "end_time": "2025-10-31T14:31:05.572776Z",
     "start_time": "2025-10-31T14:31:04.538031Z"
    }
   },
   "source": [
    "%%capture --no-stderr\n",
    "%pip install -U langgraph langgraph_tavily arxiv langchain_anthropic langchain_community langgraph_sdk"
   ],
   "outputs": [],
   "execution_count": 31
  },
  {
   "metadata": {
    "ExecuteTime": {
     "end_time": "2025-10-31T14:31:05.582756Z",
     "start_time": "2025-10-31T14:31:05.577960Z"
    }
   },
   "cell_type": "code",
   "source": [
    "from dotenv import load_dotenv\n",
    "load_dotenv('studio/.env')"
   ],
   "id": "57e8dcf3c42079e1",
   "outputs": [
    {
     "data": {
      "text/plain": [
       "True"
      ]
     },
     "execution_count": 32,
     "metadata": {},
     "output_type": "execute_result"
    }
   ],
   "execution_count": 32
  },
  {
   "metadata": {
    "ExecuteTime": {
     "end_time": "2025-10-31T14:31:05.653010Z",
     "start_time": "2025-10-31T14:31:05.591336Z"
    }
   },
   "cell_type": "code",
   "source": [
    "from IPython.display import Image, display\n",
    "from langgraph.graph import StateGraph, START, END\n",
    "from typing_extensions import TypedDict\n",
    "\n",
    "class State(TypedDict):\n",
    "    foo: int\n",
    "\n",
    "def node_1(state):\n",
    "    print(\"---Node 1---\")\n",
    "    return {\"foo\": state['foo'] + 1}\n",
    "\n",
    "def node_2(state):\n",
    "    print(\"---Node 2---\")\n",
    "    return {\"foo\": state['foo'] + 1}\n",
    "\n",
    "def node_3(state):\n",
    "    print(\"---Node 3---\")\n",
    "    return {\"foo\": state['foo'] + 1}\n",
    "\n",
    "# Build graph\n",
    "builder = StateGraph(State)\n",
    "builder.add_node(\"node_1\", node_1)\n",
    "builder.add_node(\"node_2\", node_2)\n",
    "builder.add_node(\"node_3\", node_3)\n",
    "\n",
    "# Logic\n",
    "builder.add_edge(START, \"node_1\")\n",
    "builder.add_edge(\"node_1\", \"node_2\")\n",
    "builder.add_edge(\"node_2\", \"node_3\")\n",
    "builder.add_edge(\"node_3\", END)\n",
    "\n",
    "# Add\n",
    "graph = builder.compile()\n",
    "\n",
    "# View\n",
    "display(Image(graph.get_graph().draw_mermaid_png()))"
   ],
   "id": "b32b89c55216afeb",
   "outputs": [
    {
     "data": {
      "image/png": "[encoded data removed]",
      "text/plain": [
       "<IPython.core.display.Image object>"
      ]
     },
     "metadata": {},
     "output_type": "display_data",
     "jetTransient": {
      "display_id": null
     }
    }
   ],
   "execution_count": 33
  },
  {
   "cell_type": "markdown",
   "id": "35ac0b65-6720-418d-8f38-6b3afab7e222",
   "metadata": {},
   "source": [
    "In this case, `node_1`, `node_2`, and `node_3` all execute sequentially.\n",
    "\n",
    "Each node overwrites the prior value of `foo`."
   ]
  },
  {
   "cell_type": "code",
   "id": "fbb21d07-a21e-4959-929c-0ec7c0c6f0fb",
   "metadata": {
    "ExecuteTime": {
     "end_time": "2025-10-31T14:31:05.667310Z",
     "start_time": "2025-10-31T14:31:05.660311Z"
    }
   },
   "source": [
    "graph.invoke({\"foo\" : 1})"
   ],
   "outputs": [
    {
     "name": "stdout",
     "output_type": "stream",
     "text": [
      "---Node 1---\n",
      "---Node 2---\n",
      "---Node 3---\n"
     ]
    },
    {
     "data": {
      "text/plain": [
       "{'foo': 4}"
      ]
     },
     "execution_count": 34,
     "metadata": {},
     "output_type": "execute_result"
    }
   ],
   "execution_count": 34
  },
  {
   "cell_type": "markdown",
   "id": "76a44e60-f9d1-4adf-9f2f-79e0cfc1d7dc",
   "metadata": {},
   "source": [
    "## Reducers\n",
    "\n",
    "In the above, each node overwrites the state key for `foo`.\n",
    "\n",
    "But, we can use [Reducers](https://langchain-ai.github.io/langgraph/concepts/low_level/#reducers) to accumulate to the value of the `foo` key.\n",
    "\n",
    "Let's add a list of integers."
   ]
  },
  {
   "cell_type": "code",
   "id": "80e86b2b-0c1c-4f38-8f9d-d4e78d83b3a8",
   "metadata": {
    "ExecuteTime": {
     "end_time": "2025-10-31T14:31:05.718610Z",
     "start_time": "2025-10-31T14:31:05.679256Z"
    }
   },
   "source": [
    "from typing import Annotated\n",
    "from operator import add\n",
    "\n",
    "class State(TypedDict):\n",
    "    # Annotate our state with a reducer\n",
    "    foo: Annotated[list[int], add]\n",
    "\n",
    "def node_1(state):\n",
    "    print(\"---Node 1---\")\n",
    "    return {\"foo\": [state['foo'][0] + 1]}\n",
    "\n",
    "def node_2(state):\n",
    "    print(\"---Node 2---\")\n",
    "    return {\"foo\": [state['foo'][0] + 1]}\n",
    "\n",
    "def node_3(state):\n",
    "    print(\"---Node 3---\")\n",
    "    return {\"foo\": [state['foo'][0] + 1]}\n",
    "\n",
    "# Build graph\n",
    "builder = StateGraph(State)\n",
    "builder.add_node(\"node_1\", node_1)\n",
    "builder.add_node(\"node_2\", node_2)\n",
    "builder.add_node(\"node_3\", node_3)\n",
    "\n",
    "# Logic\n",
    "builder.add_edge(START, \"node_1\")\n",
    "builder.add_edge(\"node_1\", \"node_2\")\n",
    "builder.add_edge(\"node_2\", \"node_3\")\n",
    "builder.add_edge(\"node_3\", END)\n",
    "\n",
    "# Add\n",
    "graph = builder.compile()\n",
    "\n",
    "# View\n",
    "display(Image(graph.get_graph().draw_mermaid_png()))"
   ],
   "outputs": [
    {
     "data": {
      "image/png": "[encoded data removed]",
      "text/plain": [
       "<IPython.core.display.Image object>"
      ]
     },
     "metadata": {},
     "output_type": "display_data",
     "jetTransient": {
      "display_id": null
     }
    }
   ],
   "execution_count": 35
  },
  {
   "cell_type": "code",
   "id": "ce1f1a51-b6b6-4ca9-8e21-73e70e1ec68f",
   "metadata": {
    "ExecuteTime": {
     "end_time": "2025-10-31T14:31:05.731608Z",
     "start_time": "2025-10-31T14:31:05.726547Z"
    }
   },
   "source": [
    "graph.invoke({\"foo\" : [1]})"
   ],
   "outputs": [
    {
     "name": "stdout",
     "output_type": "stream",
     "text": [
      "---Node 1---\n",
      "---Node 2---\n",
      "---Node 3---\n"
     ]
    },
    {
     "data": {
      "text/plain": [
       "{'foo': [1, 2, 2, 2]}"
      ]
     },
     "execution_count": 36,
     "metadata": {},
     "output_type": "execute_result"
    }
   ],
   "execution_count": 36
  },
  {
   "cell_type": "markdown",
   "id": "f2c8e04a-0d88-4ae6-9b19-c866c041f9f8",
   "metadata": {},
   "source": [
    "## Parallelization \n",
    "\n",
    "Often, we'd like nodes to operate in parallel. \n",
    " \n",
    "This is possible if nodes do not have any path dependencies between them. \n",
    "\n",
    "We can simply connect them to the same starting node.\n",
    "\n",
    "This is a form of `fan out` and `fan in`, where we execute many steps in parallel and aggregate the outputs."
   ]
  },
  {
   "cell_type": "code",
   "id": "5aad41bf-12e8-4f04-9fe6-79e0e1c27ab1",
   "metadata": {
    "ExecuteTime": {
     "end_time": "2025-10-31T14:31:05.781343Z",
     "start_time": "2025-10-31T14:31:05.737656Z"
    }
   },
   "source": [
    "from typing import Annotated\n",
    "from operator import add\n",
    "\n",
    "class State(TypedDict):\n",
    "    # Annotate our state with a reducer\n",
    "    foo: Annotated[list[int], add]\n",
    "\n",
    "def node_1(state):\n",
    "    print(\"---Node 1---\")\n",
    "    return {\"foo\": [state['foo'][0] + 1]}\n",
    "\n",
    "def node_2(state):\n",
    "    print(\"---Node 2---\")\n",
    "    return {\"foo\": [state['foo'][0] + 1]}\n",
    "\n",
    "def node_3(state):\n",
    "    print(\"---Node 3---\")\n",
    "    return {\"foo\": [state['foo'][0] + 1]}\n",
    "\n",
    "# Build graph\n",
    "builder = StateGraph(State)\n",
    "builder.add_node(\"node_1\", node_1)\n",
    "builder.add_node(\"node_2\", node_2)\n",
    "builder.add_node(\"node_3\", node_3)\n",
    "\n",
    "# Logic\n",
    "builder.add_edge(START, \"node_1\")\n",
    "builder.add_edge(\"node_1\", \"node_2\")\n",
    "builder.add_edge(\"node_1\", \"node_3\")\n",
    "builder.add_edge(\"node_2\", END)\n",
    "builder.add_edge(\"node_3\", END)\n",
    "\n",
    "# Add\n",
    "graph = builder.compile()\n",
    "\n",
    "# View\n",
    "display(Image(graph.get_graph().draw_mermaid_png()))"
   ],
   "outputs": [
    {
     "data": {
      "image/png": "[encoded data removed]",
      "text/plain": [
       "<IPython.core.display.Image object>"
      ]
     },
     "metadata": {},
     "output_type": "display_data",
     "jetTransient": {
      "display_id": null
     }
    }
   ],
   "execution_count": 37
  },
  {
   "cell_type": "code",
   "id": "f0e4ab11-ed9b-41b3-9c4d-b5ea77a96e9f",
   "metadata": {
    "ExecuteTime": {
     "end_time": "2025-10-31T14:31:05.797051Z",
     "start_time": "2025-10-31T14:31:05.791168Z"
    }
   },
   "source": [
    "graph.invoke({\"foo\" : [1]})"
   ],
   "outputs": [
    {
     "name": "stdout",
     "output_type": "stream",
     "text": [
      "---Node 1---\n",
      "---Node 2---\n",
      "---Node 3---\n"
     ]
    },
    {
     "data": {
      "text/plain": [
       "{'foo': [1, 2, 2, 2]}"
      ]
     },
     "execution_count": 38,
     "metadata": {},
     "output_type": "execute_result"
    }
   ],
   "execution_count": 38
  },
  {
   "cell_type": "markdown",
   "id": "35a5dbba-b4bf-4cc8-8f60-8df7c5e70e2d",
   "metadata": {},
   "source": [
    "You can see that `node_2` and `node_3` are now run in parallel.\n",
    "\n",
    "The results from both are reduced (`added`) to the output."
   ]
  },
  {
   "cell_type": "markdown",
   "id": "3dc18d4c-cfe2-4789-ad61-7f2c38c8ae5f",
   "metadata": {},
   "source": [
    "## Longer chains"
   ]
  },
  {
   "cell_type": "code",
   "id": "d36e0fc0-e2e7-4930-b6e1-64ee4a2bf99b",
   "metadata": {
    "ExecuteTime": {
     "end_time": "2025-10-31T14:31:05.861423Z",
     "start_time": "2025-10-31T14:31:05.803831Z"
    }
   },
   "source": [
    "from operator import add \n",
    "from typing import Annotated\n",
    "from typing_extensions import TypedDict\n",
    "\n",
    "from langgraph.graph import StateGraph, START, END\n",
    "\n",
    "class State(TypedDict):\n",
    "    # The operator.add reducer fn makes this append-only\n",
    "    aggregate: Annotated[list, add]\n",
    "\n",
    "class ReturnNodeValue:\n",
    "    def __init__(self, node_secret: str):\n",
    "        self._value = node_secret\n",
    "\n",
    "    def __call__(self, state: State) -> dict:\n",
    "        print(f\"Adding {self._value} to {state['aggregate']} \")\n",
    "        return {\"aggregate\": [self._value]}\n",
    "\n",
    "builder = StateGraph(State)\n",
    "\n",
    "# Initialize each node with node_secret \n",
    "builder.add_node(\"a\", ReturnNodeValue(\"I'm A\"))\n",
    "builder.add_node(\"b\", ReturnNodeValue(\"I'm B\"))\n",
    "builder.add_node(\"b2\", ReturnNodeValue(\"I'm B2\"))\n",
    "builder.add_node(\"c\", ReturnNodeValue(\"I'm C\"))\n",
    "builder.add_node(\"d\", ReturnNodeValue(\"I'm D\"))\n",
    "\n",
    "# Flow\n",
    "builder.add_edge(START, \"a\")\n",
    "builder.add_edge(\"a\", \"b\")\n",
    "builder.add_edge(\"a\", \"c\")\n",
    "builder.add_edge(\"b\", \"b2\")\n",
    "builder.add_edge([\"b2\", \"c\"], \"d\")\n",
    "builder.add_edge(\"d\", END)\n",
    "graph = builder.compile()\n",
    "\n",
    "display(Image(graph.get_graph().draw_mermaid_png()))"
   ],
   "outputs": [
    {
     "data": {
      "image/png": "[encoded data removed]",
      "text/plain": [
       "<IPython.core.display.Image object>"
      ]
     },
     "metadata": {},
     "output_type": "display_data",
     "jetTransient": {
      "display_id": null
     }
    }
   ],
   "execution_count": 39
  },
  {
   "cell_type": "markdown",
   "id": "11640e6f-ac62-4ad4-89d9-7f6f9b56bf7a",
   "metadata": {},
   "source": [
    "In this case, `b`, `b2`, and `c` are all part of the same step.\n",
    "\n",
    "The graph will wait for all of these to be completed before proceeding to step `d`. "
   ]
  },
  {
   "cell_type": "code",
   "id": "9d0f2a94-0bba-4f1b-8313-5aeb15c21ffe",
   "metadata": {
    "ExecuteTime": {
     "end_time": "2025-10-31T14:31:05.873869Z",
     "start_time": "2025-10-31T14:31:05.868271Z"
    }
   },
   "source": [
    "graph.invoke({\"aggregate\": []})"
   ],
   "outputs": [
    {
     "name": "stdout",
     "output_type": "stream",
     "text": [
      "Adding I'm A to [] \n",
      "Adding I'm B to [\"I'm A\"] \n",
      "Adding I'm C to [\"I'm A\"] \n",
      "Adding I'm B2 to [\"I'm A\", \"I'm B\", \"I'm C\"] \n",
      "Adding I'm D to [\"I'm A\", \"I'm B\", \"I'm C\", \"I'm B2\"] \n"
     ]
    },
    {
     "data": {
      "text/plain": [
       "{'aggregate': [\"I'm A\", \"I'm B\", \"I'm C\", \"I'm B2\", \"I'm D\"]}"
      ]
     },
     "execution_count": 40,
     "metadata": {},
     "output_type": "execute_result"
    }
   ],
   "execution_count": 40
  },
  {
   "cell_type": "markdown",
   "id": "e9a93c9c-65d5-4fa1-b0e0-fea634f0c8ca",
   "metadata": {},
   "source": [
    "## Example: RAG\n",
    "\n",
    "One useful real-world application of parallel execution is for RAG.\n",
    "\n",
    "We can retrieve documents from different sources in parallel, and then aggregate them before generation."
   ]
  },
  {
   "cell_type": "code",
   "id": "cfba0f48-1e95-4d5c-8ab4-b7cd00f34e94",
   "metadata": {
    "ExecuteTime": {
     "end_time": "2025-10-31T14:31:05.881755Z",
     "start_time": "2025-10-31T14:31:05.879938Z"
    }
   },
   "source": [
    "from langchain_anthropic import ChatAnthropic\n",
    "llm = ChatAnthropic(model=\"claude-haiku-4-5-20251001\", temperature=0)"
   ],
   "outputs": [],
   "execution_count": 41
  },
  {
   "cell_type": "code",
   "id": "e6eb2f7a-5a70-49bf-988c-e40ed7e08e35",
   "metadata": {
    "ExecuteTime": {
     "end_time": "2025-10-31T14:31:05.924590Z",
     "start_time": "2025-10-31T14:31:05.883965Z"
    }
   },
   "source": [
    "from operator import add \n",
    "from typing import Annotated\n",
    "from typing_extensions import TypedDict\n",
    "\n",
    "from langgraph.graph import StateGraph, START, END\n",
    "\n",
    "class State(TypedDict):\n",
    "    question: str\n",
    "    answer: str\n",
    "    context: Annotated[list, add]\n",
    "\n",
    "from langchain_core.messages import HumanMessage, SystemMessage\n",
    "\n",
    "from langchain_community.document_loaders import ArxivLoader\n",
    "from langchain_tavily import TavilySearch  # updated since filming\n",
    "\n",
    "def search_web(state):\n",
    "    \n",
    "    \"\"\" Retrieve docs from web search \"\"\"\n",
    "\n",
    "    # Search\n",
    "    tavily_search = TavilySearch(max_results=3)\n",
    "    data = tavily_search.invoke({\"query\": state['question']})\n",
    "    search_docs = data.get(\"results\", data)\n",
    "\n",
    "     # Format\n",
    "    formatted_search_docs = \"\\n\\n---\\n\\n\".join(\n",
    "        [\n",
    "            f'<Document href=\"{doc[\"url\"]}\">\\n{doc[\"content\"]}\\n</Document>'\n",
    "            for doc in search_docs\n",
    "        ]\n",
    "    )\n",
    "\n",
    "    return {\"context\": [formatted_search_docs]} \n",
    "\n",
    "def search_arxiv(state):\n",
    "    \n",
    "    \"\"\" Retrieve docs from ArXiv \"\"\"\n",
    "\n",
    "    # Search\n",
    "    # ArxivLoader loads documents by searching ArXiv\n",
    "    # It returns the top results based on the query\n",
    "    search_docs = ArxivLoader(query=state['question'], \n",
    "                              load_max_docs=2).load()\n",
    "\n",
    "     # Format\n",
    "    formatted_search_docs = \"\\n\\n---\\n\\n\".join(\n",
    "        [\n",
    "            f'<Document source=\"{doc.metadata.get(\"entry_id\", doc.metadata.get(\"Entry ID\", \"arxiv\"))}\" title=\"{doc.metadata.get(\"Title\", \"\")}\">\\n{doc.page_content[:1000]}...\\n</Document>'\n",
    "            for doc in search_docs\n",
    "        ]\n",
    "    )\n",
    "\n",
    "    return {\"context\": [formatted_search_docs]} \n",
    "\n",
    "def generate_answer(state):\n",
    "    \n",
    "    \"\"\" Node to answer a question \"\"\"\n",
    "\n",
    "    # Get state\n",
    "    context = state[\"context\"]\n",
    "    question = state[\"question\"]\n",
    "\n",
    "    # Template\n",
    "    answer_template = \"\"\"Answer the question {question} using this context: {context}\"\"\"\n",
    "    answer_instructions = answer_template.format(question=question, \n",
    "                                                       context=context)    \n",
    "    \n",
    "    # Answer\n",
    "    answer = llm.invoke([SystemMessage(content=answer_instructions)]+[HumanMessage(content=f\"Answer the question.\")])\n",
    "      \n",
    "    # Append it to state\n",
    "    return {\"answer\": answer}\n",
    "\n",
    "# Add nodes\n",
    "builder = StateGraph(State)\n",
    "\n",
    "# Initialize each node with node_secret \n",
    "builder.add_node(\"search_web\",search_web)\n",
    "builder.add_node(\"search_arxiv\", search_arxiv)\n",
    "builder.add_node(\"generate_answer\", generate_answer)\n",
    "\n",
    "# Flow\n",
    "builder.add_edge(START, \"search_arxiv\")\n",
    "builder.add_edge(START, \"search_web\")\n",
    "builder.add_edge(\"search_arxiv\", \"generate_answer\")\n",
    "builder.add_edge(\"search_web\", \"generate_answer\")\n",
    "builder.add_edge(\"generate_answer\", END)\n",
    "graph = builder.compile()\n",
    "\n",
    "display(Image(graph.get_graph().draw_mermaid_png()))"
   ],
   "outputs": [
    {
     "data": {
      "image/png": "[encoded data removed]",
      "text/plain": [
       "<IPython.core.display.Image object>"
      ]
     },
     "metadata": {},
     "output_type": "display_data",
     "jetTransient": {
      "display_id": null
     }
    }
   ],
   "execution_count": 42
  },
  {
   "cell_type": "code",
   "id": "fa544ca0-10af-491e-ad7a-477d004413eb",
   "metadata": {
    "ExecuteTime": {
     "end_time": "2025-10-31T14:31:12.556877Z",
     "start_time": "2025-10-31T14:31:05.931611Z"
    }
   },
   "source": [
    "result = graph.invoke({\"question\": \"How were Nvidia's Q2 2025 earnings\"})\n",
    "result['answer'].content"
   ],
   "outputs": [
    {
     "data": {
      "text/plain": [
       "\"# Nvidia's Q2 2025 Earnings\\n\\nBased on the provided context, here are the key highlights from Nvidia's Q2 2025 earnings:\\n\\n## Financial Performance\\n- **Revenue**: $46.74 billion, beating analyst estimates\\n- **EPS (Earnings Per Share)**: $1.04-$1.05 (adjusted), exceeding the forecast of $1.01\\n- **Earnings Surprise**: 2.97% beat on EPS\\n\\n## Key Takeaways\\n\\n1. **Strong Growth Continuation**: Sales growth remained above 50% for the quarter, indicating sustained demand for AI infrastructure\\n\\n2. **China Challenges**: \\n   - A custom-built processor for China (H20 chips) resulted in $4.5 billion in write-downs\\n   - Could have added $8 billion in Q2 sales if commercially available\\n\\n3. **Robotics Division Growth**: \\n   - Generated $586 million in sales\\n   - Represented 69% annual growth, though still a small part of overall business\\n\\n4. **Future Outlook**: \\n   - Nvidia's successor to Blackwell, called **Rubin**, is on track for volume production in 2026\\n   - The company expects $3-4 trillion in AI infrastructure spending by 2030\\n\\nOverall, Nvidia exceeded expectations once again, though China remains an area of uncertainty for the company.\""
      ]
     },
     "execution_count": 43,
     "metadata": {},
     "output_type": "execute_result"
    }
   ],
   "execution_count": 43
  },
  {
   "attachments": {},
   "cell_type": "markdown",
   "id": "3dbbecab-80eb-4f0c-b43a-45542fc0ae9c",
   "metadata": {},
   "source": [
    "## Using with LangGraph API\n",
    "\n",
    "**⚠️ Notice**\n",
    "\n",
    "Since filming these videos, we've updated Studio so that it can now be run locally and accessed through your browser. This is the preferred way to run Studio instead of using the Desktop App shown in the video. It is now called _LangSmith Studio_ instead of _LangGraph Studio_. Detailed setup instructions are available in the \"Getting Setup\" guide at the start of the course. You can find a description of Studio [here](https://docs.langchain.com/langsmith/studio), and specific details for local deployment [here](https://docs.langchain.com/langsmith/quick-start-studio#local-development-server).  \n",
    "To start the local development server, run the following command in your terminal in the `/studio` directory in this module:\n",
    "\n",
    "```\n",
    "langgraph dev\n",
    "```\n",
    "\n",
    "You should see the following output:\n",
    "```\n",
    "- 🚀 API: http://127.0.0.1:2024\n",
    "- 🎨 Studio UI: https://smith.langchain.com/studio/?baseUrl=http://127.0.0.1:2024\n",
    "- 📚 API Docs: http://127.0.0.1:2024/docs\n",
    "```\n",
    "\n",
    "Open your browser and navigate to the **Studio UI** URL shown above."
   ]
  },
  {
   "cell_type": "code",
   "id": "4bc8ad8d-1365-4801-a8a5-b85cd4965119",
   "metadata": {
    "ExecuteTime": {
     "end_time": "2025-10-31T14:31:12.576452Z",
     "start_time": "2025-10-31T14:31:12.574017Z"
    }
   },
   "source": [
    "if 'google.colab' in str(get_ipython()):\n",
    "    raise Exception(\"Unfortunately LangSmith Studio is currently not supported on Google Colab\")"
   ],
   "outputs": [],
   "execution_count": 44
  },
  {
   "cell_type": "code",
   "id": "23919dc9-27d8-4d10-b91d-24acdf8c0fb9",
   "metadata": {
    "ExecuteTime": {
     "end_time": "2025-10-31T14:31:12.594928Z",
     "start_time": "2025-10-31T14:31:12.580862Z"
    }
   },
   "source": [
    "from langgraph_sdk import get_client\n",
    "client = get_client(url=\"http://127.0.0.1:2024\")"
   ],
   "outputs": [],
   "execution_count": 45
  },
  {
   "metadata": {
    "ExecuteTime": {
     "end_time": "2025-10-31T14:31:21.366684Z",
     "start_time": "2025-10-31T14:31:12.598769Z"
    }
   },
   "cell_type": "code",
   "source": [
    "thread = await client.threads.create()\n",
    "input_question = {\"question\": \"How were Nvidia Q2 2025 earnings?\"}\n",
    "async for event in client.runs.stream(thread[\"thread_id\"], \n",
    "                                      assistant_id=\"parallelization\", \n",
    "                                      input=input_question, \n",
    "                                      stream_mode=\"values\"):\n",
    "    # Check if answer has been added to state  \n",
    "    if event.data is not None:\n",
    "        answer = event.data.get('answer', None)\n",
    "        if answer:\n",
    "            print(answer['content'])"
   ],
   "id": "ea085c7eabeea079",
   "outputs": [
    {
     "name": "stdout",
     "output_type": "stream",
     "text": [
      "# Nvidia Q2 2025 Earnings\n",
      "\n",
      "Based on the provided context, here are the key highlights from Nvidia's Q2 2025 earnings:\n",
      "\n",
      "## Financial Performance\n",
      "- **Revenue**: $46.74 billion, beating analyst estimates\n",
      "- **EPS (Earnings Per Share)**: $1.04-$1.05 (adjusted), exceeding the forecast of $1.01\n",
      "- **Earnings Surprise**: 2.97% beat on EPS\n",
      "\n",
      "## Key Takeaways\n",
      "- Nvidia **exceeded expectations** for the second consecutive quarter\n",
      "- **Sales growth** is expected to remain **above 50%** in the coming quarter, indicating strong continued demand for AI infrastructure\n",
      "- The company's **robotics division** generated $586 million in sales during the quarter, representing 69% growth year-over-year\n",
      "\n",
      "## Future Outlook\n",
      "- Nvidia's successor to the Blackwell chip, called **Rubin**, is on track for volume production in 2026\n",
      "- The company expects **$3-4 trillion in AI infrastructure spending** by 2030\n",
      "\n",
      "## Notable Challenge\n",
      "- China remains a question mark for the company, with a $4.5 billion write-down related to a custom processor (H20 chip) built for China sales that couldn't be commercially available\n",
      "\n",
      "Overall, Nvidia demonstrated strong financial performance with continued robust demand for AI infrastructure.\n"
     ]
    }
   ],
   "execution_count": 46
  }
 ],
 "metadata": {
  "kernelspec": {
   "display_name": "Python 3 (ipykernel)",
   "language": "python",
   "name": "python3"
  },
  "language_info": {
   "codemirror_mode": {
    "name": "ipython",
    "version": 3
   },
   "file_extension": ".py",
   "mimetype": "text/x-python",
   "name": "python",
   "nbconvert_exporter": "python",
   "pygments_lexer": "ipython3",
   "version": "3.13.5"
  }
 },
 "nbformat": 4,
 "nbformat_minor": 5
}
