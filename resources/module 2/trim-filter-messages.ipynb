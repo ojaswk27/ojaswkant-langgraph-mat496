{
 "cells": [
  {
   "cell_type": "markdown",
   "id": "fb0ebaf1",
   "metadata": {},
   "source": [
    "[![Open in Colab](https://colab.research.google.com/assets/colab-badge.svg)](https://colab.research.google.com/github/langchain-ai/langchain-academy/blob/main/module-2/trim-filter-messages.ipynb) [![Open in LangChain Academy](https://cdn.prod.website-files.com/65b8cd72835ceeacd4449a53/66e9eba12c7b7688aa3dbb5e_LCA-badge-green.svg)](https://academy.langchain.com/courses/take/intro-to-langgraph/lessons/58239435-lesson-4-trim-and-filter-messages)"
   ]
  },
  {
   "cell_type": "markdown",
   "id": "c52ea2f9-03ff-4647-b782-46867ebed04e",
   "metadata": {},
   "source": [
    "# Filtering and trimming messages\n",
    "\n",
    "## Review\n",
    "\n",
    "Now, we have a deeper understanding of a few things: \n",
    "\n",
    "* How to customize the graph state schema\n",
    "* How to define custom state reducers\n",
    "* How to use multiple graph state schemas\n",
    "\n",
    "## Goals\n",
    "\n",
    "Now, we can start using these concepts with models in LangGraph!\n",
    " \n",
    "In the next few sessions, we'll build towards a chatbot that has long-term memory.\n",
    "\n",
    "Because our chatbot will use messages, let's first talk a bit more about advanced ways to work with messages in graph state."
   ]
  },
  {
   "cell_type": "code",
   "id": "d5197aba-5d46-421b-ae3b-4e3034edcfda",
   "metadata": {
    "ExecuteTime": {
     "end_time": "2025-10-23T15:56:12.588311Z",
     "start_time": "2025-10-23T15:56:11.603048Z"
    }
   },
   "source": [
    "%%capture --no-stderr\n",
    "%pip install --quiet -U langchain_core langgraph langchain_openai"
   ],
   "outputs": [],
   "execution_count": 40
  },
  {
   "cell_type": "code",
   "id": "768dc606-d5f2-468d-96ea-910b264e0f8a",
   "metadata": {
    "ExecuteTime": {
     "end_time": "2025-10-23T15:56:12.602337Z",
     "start_time": "2025-10-23T15:56:12.598730Z"
    }
   },
   "source": [
    "import os\n",
    "from dotenv import load_dotenv\n",
    "\n",
    "load_dotenv(\"../../.env\")"
   ],
   "outputs": [
    {
     "data": {
      "text/plain": [
       "True"
      ]
     },
     "execution_count": 41,
     "metadata": {},
     "output_type": "execute_result"
    }
   ],
   "execution_count": 41
  },
  {
   "cell_type": "markdown",
   "id": "8b64d8d3-e4ac-4961-bdc0-688825eb5864",
   "metadata": {},
   "source": [
    "We'll use [LangSmith](https://docs.smith.langchain.com/) for [tracing](https://docs.smith.langchain.com/concepts/tracing).\n",
    "\n",
    "We'll log to a project, `langchain-academy`. "
   ]
  },
  {
   "cell_type": "code",
   "id": "dd020c79",
   "metadata": {
    "ExecuteTime": {
     "end_time": "2025-10-23T15:56:12.651442Z",
     "start_time": "2025-10-23T15:56:12.648065Z"
    }
   },
   "source": [
    "load_dotenv()\n",
    "os.environ[\"LANGSMITH_TRACING\"] = \"true\"\n",
    "os.environ[\"LANGSMITH_PROJECT\"] = \"default\""
   ],
   "outputs": [],
   "execution_count": 42
  },
  {
   "metadata": {
    "ExecuteTime": {
     "end_time": "2025-10-23T15:56:12.698480Z",
     "start_time": "2025-10-23T15:56:12.696109Z"
    }
   },
   "cell_type": "code",
   "source": [
    "from pprint import pprint\n",
    "from langchain_core.messages import AIMessage, HumanMessage\n",
    "messages = [AIMessage(f\"So you said you were researching ocean mammals?\", name=\"Bot\")]\n",
    "messages.append(HumanMessage(f\"Yes, I know about whales. But what others should I learn about?\", name=\"Ojasw\"))\n",
    "\n",
    "for m in messages:\n",
    "    m.pretty_print()"
   ],
   "id": "da8d6e55f4c095e9",
   "outputs": [
    {
     "name": "stdout",
     "output_type": "stream",
     "text": [
      "==================================\u001B[1m Ai Message \u001B[0m==================================\n",
      "Name: Bot\n",
      "\n",
      "So you said you were researching ocean mammals?\n",
      "================================\u001B[1m Human Message \u001B[0m=================================\n",
      "Name: Ojasw\n",
      "\n",
      "Yes, I know about whales. But what others should I learn about?\n"
     ]
    }
   ],
   "execution_count": 43
  },
  {
   "cell_type": "markdown",
   "id": "72f3fc90-58b6-4f7f-897e-dddf6ae532c7",
   "metadata": {},
   "source": [
    "## Messages as state\n",
    "\n",
    "First, let's define some messages."
   ]
  },
  {
   "cell_type": "code",
   "id": "cf11a463-e27a-4a05-b41d-64882e38edca",
   "metadata": {
    "ExecuteTime": {
     "end_time": "2025-10-23T15:56:12.746262Z",
     "start_time": "2025-10-23T15:56:12.743948Z"
    }
   },
   "source": [
    "from pprint import pprint\n",
    "from langchain_core.messages import AIMessage, HumanMessage\n",
    "messages = [AIMessage(f\"So you said you were researching Greek mythology?\", name=\"Bot\")]\n",
    "messages.append(HumanMessage(f\"Yes, I know about Zeus. But what other gods should I learn about?\", name=\"Ojasw\"))\n",
    "\n",
    "for m in messages:\n",
    "    m.pretty_print()"
   ],
   "outputs": [
    {
     "name": "stdout",
     "output_type": "stream",
     "text": [
      "==================================\u001B[1m Ai Message \u001B[0m==================================\n",
      "Name: Bot\n",
      "\n",
      "So you said you were researching Greek mythology?\n",
      "================================\u001B[1m Human Message \u001B[0m=================================\n",
      "Name: Ojasw\n",
      "\n",
      "Yes, I know about Zeus. But what other gods should I learn about?\n"
     ]
    }
   ],
   "execution_count": 44
  },
  {
   "cell_type": "markdown",
   "id": "b814adcb-6bf9-4b75-be11-e59f933fbd0c",
   "metadata": {},
   "source": [
    "Recall we can pass them to a chat model."
   ]
  },
  {
   "cell_type": "code",
   "id": "4712e288-e622-48a2-ad3f-a52f65f3ab08",
   "metadata": {
    "ExecuteTime": {
     "end_time": "2025-10-23T15:56:16.453407Z",
     "start_time": "2025-10-23T15:56:12.791797Z"
    }
   },
   "source": [
    "from langchain_anthropic import ChatAnthropic\n",
    "llm = ChatAnthropic(model=\"claude-haiku-4-5-20251001\")\n",
    "llm.invoke(messages)"
   ],
   "outputs": [
    {
     "data": {
      "text/plain": [
       "AIMessage(content='# Greek Gods Worth Exploring\\n\\nHere are some key Olympian deities and others you might find interesting:\\n\\n## The Twelve Olympians\\n- **Hera** - Queen of the gods, goddess of marriage and family\\n- **Poseidon** - God of the sea, earthquakes, and horses\\n- **Demeter** - Goddess of agriculture and the harvest\\n- **Athena** - Goddess of wisdom and warfare strategy\\n- **Apollo** - God of music, poetry, healing, and the sun\\n- **Artemis** - Goddess of the hunt and the moon\\n- **Ares** - God of war (violent aspects)\\n- **Aphrodite** - Goddess of love and beauty\\n- **Hephaestus** - God of metalworking and fire\\n- **Hermes** - Messenger god and guide of souls\\n- **Dionysus** - God of wine, theater, and revelry\\n\\n## Other Important Deities\\n- **Hades** - God of the underworld (sometimes counted as an Olympian)\\n- **Hecate** - Goddess of magic and crossroads\\n- **Nike** - Goddess of victory\\n\\n**Which of these interests you most?** The stories often overlap, so knowing the relationships between gods helps you understand the myths better.', additional_kwargs={}, response_metadata={'id': 'msg_013mK2XS3jbUGTCuKvdo3mXM', 'model': 'claude-haiku-4-5-20251001', 'stop_reason': 'end_turn', 'stop_sequence': None, 'usage': {'cache_creation': {'ephemeral_1h_input_tokens': 0, 'ephemeral_5m_input_tokens': 0}, 'cache_creation_input_tokens': 0, 'cache_read_input_tokens': 0, 'input_tokens': 48, 'output_tokens': 298, 'server_tool_use': None, 'service_tier': 'standard'}, 'model_name': 'claude-haiku-4-5-20251001'}, id='lc_run--29b29e41-9e61-40ee-b18d-0d5f32d4bf1a-0', usage_metadata={'input_tokens': 48, 'output_tokens': 298, 'total_tokens': 346, 'input_token_details': {'cache_read': 0, 'cache_creation': 0, 'ephemeral_5m_input_tokens': 0, 'ephemeral_1h_input_tokens': 0}})"
      ]
     },
     "execution_count": 45,
     "metadata": {},
     "output_type": "execute_result"
    }
   ],
   "execution_count": 45
  },
  {
   "cell_type": "markdown",
   "id": "fbd1dab8-0af8-4621-8264-ce65065f76ec",
   "metadata": {},
   "source": [
    "We can run our chat model in a simple graph with `MessagesState`."
   ]
  },
  {
   "cell_type": "code",
   "id": "bbd8c39c-633b-4176-9cc6-8318e42bb5dd",
   "metadata": {
    "ExecuteTime": {
     "end_time": "2025-10-23T15:56:16.496750Z",
     "start_time": "2025-10-23T15:56:16.463537Z"
    }
   },
   "source": [
    "from IPython.display import Image, display\n",
    "from langgraph.graph import MessagesState\n",
    "from langgraph.graph import StateGraph, START, END\n",
    "\n",
    "def chat_model_node(state: MessagesState):\n",
    "    return {\"messages\": llm.invoke(state[\"messages\"])}\n",
    "\n",
    "builder = StateGraph(MessagesState)\n",
    "builder.add_node(\"chat_model\", chat_model_node)\n",
    "builder.add_edge(START, \"chat_model\")\n",
    "builder.add_edge(\"chat_model\", END)\n",
    "graph = builder.compile()\n",
    "\n",
    "display(Image(graph.get_graph().draw_mermaid_png()))"
   ],
   "outputs": [
    {
     "data": {
      "image/png": "[encoded data removed]",
      "text/plain": [
       "<IPython.core.display.Image object>"
      ]
     },
     "metadata": {},
     "output_type": "display_data"
    }
   ],
   "execution_count": 46
  },
  {
   "cell_type": "code",
   "id": "3a5a3e4a-ccfd-4d14-81f1-f0de6e11a1e4",
   "metadata": {
    "ExecuteTime": {
     "end_time": "2025-10-23T15:56:20.044975Z",
     "start_time": "2025-10-23T15:56:16.514648Z"
    }
   },
   "source": [
    "output = graph.invoke({'messages': messages})\n",
    "for m in output['messages']:\n",
    "    m.pretty_print()"
   ],
   "outputs": [
    {
     "name": "stdout",
     "output_type": "stream",
     "text": [
      "==================================\u001B[1m Ai Message \u001B[0m==================================\n",
      "Name: Bot\n",
      "\n",
      "So you said you were researching Greek mythology?\n",
      "================================\u001B[1m Human Message \u001B[0m=================================\n",
      "Name: Ojasw\n",
      "\n",
      "Yes, I know about Zeus. But what other gods should I learn about?\n",
      "==================================\u001B[1m Ai Message \u001B[0m==================================\n",
      "\n",
      "# Greek Gods Worth Exploring\n",
      "\n",
      "Here are some key figures beyond Zeus:\n",
      "\n",
      "**The Olympians:**\n",
      "- **Hades** - God of the underworld; often misunderstood as purely evil, but complex and important\n",
      "- **Poseidon** - God of the sea, earthquakes, and horses; Zeus's brother\n",
      "- **Athena** - Goddess of wisdom and warfare strategy\n",
      "- **Apollo** - God of music, poetry, prophecy, and the sun\n",
      "- **Aphrodite** - Goddess of love and beauty\n",
      "- **Ares** - God of war (contrast with Athena's strategic warfare)\n",
      "\n",
      "**Others of Interest:**\n",
      "- **Hermes** - Messenger god; trickster figure with interesting stories\n",
      "- **Hephaestus** - God of blacksmiths and craftsmanship\n",
      "- **Hera** - Queen of the gods (Zeus's wife); complex role in many myths\n",
      "\n",
      "**Why they matter:**\n",
      "Each god represents different aspects of human experience and nature. Their conflicts and relationships drive most Greek myths. The stories often reveal ancient Greek values and concerns.\n",
      "\n",
      "**What aspects interest you most?** I could suggest specific myths or dive deeper into particular gods. Are you interested in their roles in famous stories, their symbolism, or something else?\n"
     ]
    }
   ],
   "execution_count": 47
  },
  {
   "cell_type": "markdown",
   "id": "34c33e63-1ef4-412d-bb10-6a1b9e5b35a7",
   "metadata": {},
   "source": [
    "## Reducer\n",
    "\n",
    "A practical challenge when working with messages is managing long-running conversations. \n",
    "\n",
    "Long-running conversations result in high token usage and latency if we are not careful, because we pass a growing list of messages to the model.\n",
    "\n",
    "We have a few ways to address this.\n",
    "\n",
    "First, recall the trick we saw using `RemoveMessage` and the `add_messages` reducer."
   ]
  },
  {
   "cell_type": "code",
   "id": "222c6bc5-bb0e-4a43-80f5-c8ec38d99f3a",
   "metadata": {
    "ExecuteTime": {
     "end_time": "2025-10-23T15:56:20.093347Z",
     "start_time": "2025-10-23T15:56:20.054303Z"
    }
   },
   "source": [
    "from langchain_core.messages import RemoveMessage\n",
    "\n",
    "def filter_messages(state: MessagesState):\n",
    "    delete_messages = [RemoveMessage(id=m.id) for m in state[\"messages\"][:-2]]\n",
    "    return {\"messages\": delete_messages}\n",
    "\n",
    "def chat_model_node(state: MessagesState):\n",
    "    return {\"messages\": [llm.invoke(state[\"messages\"])]}\n",
    "\n",
    "builder = StateGraph(MessagesState)\n",
    "builder.add_node(\"filter\", filter_messages)\n",
    "builder.add_node(\"chat_model\", chat_model_node)\n",
    "builder.add_edge(START, \"filter\")\n",
    "builder.add_edge(\"filter\", \"chat_model\")\n",
    "builder.add_edge(\"chat_model\", END)\n",
    "graph = builder.compile()\n",
    "\n",
    "display(Image(graph.get_graph().draw_mermaid_png()))"
   ],
   "outputs": [
    {
     "data": {
      "image/png": "[encoded data removed]",
      "text/plain": [
       "<IPython.core.display.Image object>"
      ]
     },
     "metadata": {},
     "output_type": "display_data"
    }
   ],
   "execution_count": 48
  },
  {
   "cell_type": "code",
   "id": "95a7c2cc-54ce-43e7-9a90-abf37827d709",
   "metadata": {
    "ExecuteTime": {
     "end_time": "2025-10-23T15:56:23.793555Z",
     "start_time": "2025-10-23T15:56:20.101527Z"
    }
   },
   "source": [
    "messages = [AIMessage(\"Hi.\", name=\"Bot\", id=\"1\")]\n",
    "messages.append(HumanMessage(\"Hi.\", name=\"Ojasw\", id=\"2\"))\n",
    "messages.append(AIMessage(\"So you said you were researching Greek mythology?\", name=\"Bot\", id=\"3\"))\n",
    "messages.append(HumanMessage(\"Yes, I know about Zeus. But what other gods should I learn about?\", name=\"Ojasw\", id=\"4\"))\n",
    "\n",
    "output = graph.invoke({'messages': messages})\n",
    "for m in output['messages']:\n",
    "    m.pretty_print()"
   ],
   "outputs": [
    {
     "name": "stdout",
     "output_type": "stream",
     "text": [
      "==================================\u001B[1m Ai Message \u001B[0m==================================\n",
      "Name: Bot\n",
      "\n",
      "So you said you were researching Greek mythology?\n",
      "================================\u001B[1m Human Message \u001B[0m=================================\n",
      "Name: Ojasw\n",
      "\n",
      "Yes, I know about Zeus. But what other gods should I learn about?\n",
      "==================================\u001B[1m Ai Message \u001B[0m==================================\n",
      "\n",
      "# Other Important Greek Gods\n",
      "\n",
      "Here are some key gods worth learning about:\n",
      "\n",
      "**The Olympians:**\n",
      "- **Poseidon** - God of the sea, earthquakes, and storms\n",
      "- **Hades** - God of the underworld and the dead\n",
      "- **Athena** - Goddess of wisdom, warfare strategy, and crafts\n",
      "- **Apollo** - God of music, poetry, healing, and the sun\n",
      "- **Artemis** - Goddess of the hunt and the moon\n",
      "- **Ares** - God of war and violence (contrast to Athena's strategic warfare)\n",
      "- **Aphrodite** - Goddess of love and beauty\n",
      "- **Hermes** - Messenger god; also patron of travelers and thieves\n",
      "- **Hephaestus** - God of blacksmiths and metalworking\n",
      "- **Demeter** - Goddess of agriculture and the harvest\n",
      "\n",
      "**Why start with these?**\n",
      "Each has fascinating myths attached. For instance:\n",
      "- Poseidon and Hades are Zeus's brothers, so understanding their domains shows how Greek religion divided the cosmos\n",
      "- Athena and Ares represent different aspects of conflict\n",
      "- Hermes and Apollo have the most entertaining trickster stories\n",
      "\n",
      "**What interests you most?** Are you drawn to creation myths, individual hero stories, or the relationships between the gods?\n"
     ]
    }
   ],
   "execution_count": 49
  },
  {
   "cell_type": "markdown",
   "id": "f506457d-014b-4fee-a684-e5edfb4b8f0d",
   "metadata": {},
   "source": [
    "## Filtering messages\n",
    "\n",
    "If you don't need or want to modify the graph state, you can just filter the messages you pass to the chat model.\n",
    "\n",
    "For example, just pass in a filtered list: `llm.invoke(messages[-1:])` to the model."
   ]
  },
  {
   "cell_type": "code",
   "id": "22d0b904-7cd6-486b-8948-105bee3d4683",
   "metadata": {
    "ExecuteTime": {
     "end_time": "2025-10-23T15:56:23.831607Z",
     "start_time": "2025-10-23T15:56:23.800499Z"
    }
   },
   "source": [
    "def chat_model_node(state: MessagesState):\n",
    "    return {\"messages\": [llm.invoke(state[\"messages\"][-1:])]}\n",
    "\n",
    "builder = StateGraph(MessagesState)\n",
    "builder.add_node(\"chat_model\", chat_model_node)\n",
    "builder.add_edge(START, \"chat_model\")\n",
    "builder.add_edge(\"chat_model\", END)\n",
    "graph = builder.compile()\n",
    "\n",
    "display(Image(graph.get_graph().draw_mermaid_png()))"
   ],
   "outputs": [
    {
     "data": {
      "image/png": "[encoded data removed]",
      "text/plain": [
       "<IPython.core.display.Image object>"
      ]
     },
     "metadata": {},
     "output_type": "display_data"
    }
   ],
   "execution_count": 50
  },
  {
   "cell_type": "markdown",
   "id": "6f58c6fc-532f-418d-b70a-cfcb3307daf5",
   "metadata": {},
   "source": [
    "Let's take our existing list of messages, append the above LLM response, and append a follow-up question."
   ]
  },
  {
   "cell_type": "code",
   "id": "16956015-1dbe-4108-89b5-4209b68b51ca",
   "metadata": {
    "ExecuteTime": {
     "end_time": "2025-10-23T15:56:23.849094Z",
     "start_time": "2025-10-23T15:56:23.847582Z"
    }
   },
   "source": [
    "messages.append(output['messages'][-1])\n",
    "messages.append(HumanMessage(f\"Tell me more about Athena!\", name=\"Ojasw\"))"
   ],
   "outputs": [],
   "execution_count": 51
  },
  {
   "cell_type": "code",
   "id": "85563415-c085-46a8-a4ac-155df798c54e",
   "metadata": {
    "ExecuteTime": {
     "end_time": "2025-10-23T15:56:23.896125Z",
     "start_time": "2025-10-23T15:56:23.894301Z"
    }
   },
   "source": [
    "for m in messages:\n",
    "    m.pretty_print()"
   ],
   "outputs": [
    {
     "name": "stdout",
     "output_type": "stream",
     "text": [
      "==================================\u001B[1m Ai Message \u001B[0m==================================\n",
      "Name: Bot\n",
      "\n",
      "Hi.\n",
      "================================\u001B[1m Human Message \u001B[0m=================================\n",
      "Name: Ojasw\n",
      "\n",
      "Hi.\n",
      "==================================\u001B[1m Ai Message \u001B[0m==================================\n",
      "Name: Bot\n",
      "\n",
      "So you said you were researching Greek mythology?\n",
      "================================\u001B[1m Human Message \u001B[0m=================================\n",
      "Name: Ojasw\n",
      "\n",
      "Yes, I know about Zeus. But what other gods should I learn about?\n",
      "==================================\u001B[1m Ai Message \u001B[0m==================================\n",
      "\n",
      "# Other Important Greek Gods\n",
      "\n",
      "Here are some key gods worth learning about:\n",
      "\n",
      "**The Olympians:**\n",
      "- **Poseidon** - God of the sea, earthquakes, and storms\n",
      "- **Hades** - God of the underworld and the dead\n",
      "- **Athena** - Goddess of wisdom, warfare strategy, and crafts\n",
      "- **Apollo** - God of music, poetry, healing, and the sun\n",
      "- **Artemis** - Goddess of the hunt and the moon\n",
      "- **Ares** - God of war and violence (contrast to Athena's strategic warfare)\n",
      "- **Aphrodite** - Goddess of love and beauty\n",
      "- **Hermes** - Messenger god; also patron of travelers and thieves\n",
      "- **Hephaestus** - God of blacksmiths and metalworking\n",
      "- **Demeter** - Goddess of agriculture and the harvest\n",
      "\n",
      "**Why start with these?**\n",
      "Each has fascinating myths attached. For instance:\n",
      "- Poseidon and Hades are Zeus's brothers, so understanding their domains shows how Greek religion divided the cosmos\n",
      "- Athena and Ares represent different aspects of conflict\n",
      "- Hermes and Apollo have the most entertaining trickster stories\n",
      "\n",
      "**What interests you most?** Are you drawn to creation myths, individual hero stories, or the relationships between the gods?\n",
      "================================\u001B[1m Human Message \u001B[0m=================================\n",
      "Name: Ojasw\n",
      "\n",
      "Tell me more about Athena!\n"
     ]
    }
   ],
   "execution_count": 52
  },
  {
   "cell_type": "code",
   "id": "23349705-a059-47b5-9760-d8f64e687393",
   "metadata": {
    "ExecuteTime": {
     "end_time": "2025-10-23T15:56:26.936161Z",
     "start_time": "2025-10-23T15:56:23.941005Z"
    }
   },
   "source": [
    "output = graph.invoke({'messages': messages})\n",
    "for m in output['messages']:\n",
    "    m.pretty_print()"
   ],
   "outputs": [
    {
     "name": "stdout",
     "output_type": "stream",
     "text": [
      "==================================\u001B[1m Ai Message \u001B[0m==================================\n",
      "Name: Bot\n",
      "\n",
      "Hi.\n",
      "================================\u001B[1m Human Message \u001B[0m=================================\n",
      "Name: Ojasw\n",
      "\n",
      "Hi.\n",
      "==================================\u001B[1m Ai Message \u001B[0m==================================\n",
      "Name: Bot\n",
      "\n",
      "So you said you were researching Greek mythology?\n",
      "================================\u001B[1m Human Message \u001B[0m=================================\n",
      "Name: Ojasw\n",
      "\n",
      "Yes, I know about Zeus. But what other gods should I learn about?\n",
      "==================================\u001B[1m Ai Message \u001B[0m==================================\n",
      "\n",
      "# Other Important Greek Gods\n",
      "\n",
      "Here are some key gods worth learning about:\n",
      "\n",
      "**The Olympians:**\n",
      "- **Poseidon** - God of the sea, earthquakes, and storms\n",
      "- **Hades** - God of the underworld and the dead\n",
      "- **Athena** - Goddess of wisdom, warfare strategy, and crafts\n",
      "- **Apollo** - God of music, poetry, healing, and the sun\n",
      "- **Artemis** - Goddess of the hunt and the moon\n",
      "- **Ares** - God of war and violence (contrast to Athena's strategic warfare)\n",
      "- **Aphrodite** - Goddess of love and beauty\n",
      "- **Hermes** - Messenger god; also patron of travelers and thieves\n",
      "- **Hephaestus** - God of blacksmiths and metalworking\n",
      "- **Demeter** - Goddess of agriculture and the harvest\n",
      "\n",
      "**Why start with these?**\n",
      "Each has fascinating myths attached. For instance:\n",
      "- Poseidon and Hades are Zeus's brothers, so understanding their domains shows how Greek religion divided the cosmos\n",
      "- Athena and Ares represent different aspects of conflict\n",
      "- Hermes and Apollo have the most entertaining trickster stories\n",
      "\n",
      "**What interests you most?** Are you drawn to creation myths, individual hero stories, or the relationships between the gods?\n",
      "================================\u001B[1m Human Message \u001B[0m=================================\n",
      "Name: Ojasw\n",
      "\n",
      "Tell me more about Athena!\n",
      "==================================\u001B[1m Ai Message \u001B[0m==================================\n",
      "\n",
      "# Athena\n",
      "\n",
      "I'd be happy to tell you about Athena! However, there are several possibilities for who or what you're interested in:\n",
      "\n",
      "**Greek Goddess Athena** - Goddess of wisdom, warfare strategy, crafts, and Athens. Known for being born from Zeus's head, her owl companion, and the olive tree she gave to Athens.\n",
      "\n",
      "**Athena (AI Assistant)** - If you're asking about an AI system, could you clarify which one? There are various AI projects with this name.\n",
      "\n",
      "**Athena (Other)** - There's also Project Athena (educational initiative), various companies, or other references.\n",
      "\n",
      "**Which Athena would you like to know more about?** I can dive deeper once I know what you're most interested in!\n"
     ]
    }
   ],
   "execution_count": 53
  },
  {
   "cell_type": "markdown",
   "id": "42e1d8d2-e297-4d78-b54c-d12b3c866745",
   "metadata": {},
   "source": [
    "The state has all of the mesages.\n",
    "\n",
    "But, let's look at the LangSmith trace to see that the model invocation only uses the last message:\n",
    "\n",
    "https://smith.langchain.com/public/75aca3ce-ef19-4b92-94be-0178c7a660d9/r"
   ]
  },
  {
   "cell_type": "markdown",
   "id": "fc40d930-3c1f-47fe-8d2a-ce174873353c",
   "metadata": {},
   "source": [
    "## Trim messages\n",
    "\n",
    "Another approach is to [trim messages](https://python.langchain.com/v0.2/docs/how_to/trim_messages/#getting-the-last-max_tokens-tokens), based upon a set number of tokens. \n",
    "\n",
    "This restricts the message history to a specified number of tokens.\n",
    "\n",
    "While filtering only returns a post-hoc subset of the messages between agents, trimming restricts the number of tokens that a chat model can use to respond.\n",
    "\n",
    "See the `trim_messages` below."
   ]
  },
  {
   "cell_type": "code",
   "id": "2ff99b81-cf03-4cc2-b44f-44829a73e1fd",
   "metadata": {
    "ExecuteTime": {
     "end_time": "2025-10-23T15:56:26.977469Z",
     "start_time": "2025-10-23T15:56:26.943818Z"
    }
   },
   "source": [
    "from langchain_core.messages import trim_messages\n",
    "\n",
    "def chat_model_node(state: MessagesState):\n",
    "    messages = trim_messages(\n",
    "            state[\"messages\"],\n",
    "            max_tokens=100,\n",
    "            strategy=\"last\",\n",
    "            token_counter=ChatAnthropic(model=\"claude-haiku-4-5-20251001\"),\n",
    "            allow_partial=False,\n",
    "        )\n",
    "    return {\"messages\": [llm.invoke(messages)]}\n",
    "\n",
    "builder = StateGraph(MessagesState)\n",
    "builder.add_node(\"chat_model\", chat_model_node)\n",
    "builder.add_edge(START, \"chat_model\")\n",
    "builder.add_edge(\"chat_model\", END)\n",
    "graph = builder.compile()\n",
    "\n",
    "display(Image(graph.get_graph().draw_mermaid_png()))"
   ],
   "outputs": [
    {
     "data": {
      "image/png": "[encoded data removed]",
      "text/plain": [
       "<IPython.core.display.Image object>"
      ]
     },
     "metadata": {},
     "output_type": "display_data"
    }
   ],
   "execution_count": 54
  },
  {
   "cell_type": "code",
   "id": "24df63ac-da29-4874-b3df-7e390e97cc8a",
   "metadata": {
    "ExecuteTime": {
     "end_time": "2025-10-23T15:56:26.992341Z",
     "start_time": "2025-10-23T15:56:26.990670Z"
    }
   },
   "source": [
    "messages.append(output['messages'][-1])\n",
    "messages.append(HumanMessage(f\"Tell me where Poseidon lived!\", name=\"Ojasw\"))"
   ],
   "outputs": [],
   "execution_count": 55
  },
  {
   "cell_type": "code",
   "id": "6d9d8971-c75c-43ca-a209-eb1d07b2ead0",
   "metadata": {
    "ExecuteTime": {
     "end_time": "2025-10-23T15:56:28.665541Z",
     "start_time": "2025-10-23T15:56:27.037884Z"
    }
   },
   "source": [
    "trim_messages(\n",
    "            messages,\n",
    "            max_tokens=100,\n",
    "            strategy=\"last\",\n",
    "            token_counter=ChatAnthropic(model=\"claude-haiku-4-5-20251001\"),\n",
    "            allow_partial=False\n",
    "        )"
   ],
   "outputs": [
    {
     "data": {
      "text/plain": [
       "[HumanMessage(content='Tell me where Poseidon lived!', additional_kwargs={}, response_metadata={}, name='Ojasw')]"
      ]
     },
     "execution_count": 56,
     "metadata": {},
     "output_type": "execute_result"
    }
   ],
   "execution_count": 56
  },
  {
   "cell_type": "code",
   "id": "ed70a269-a869-4fa0-a1df-29736a432c51",
   "metadata": {
    "ExecuteTime": {
     "end_time": "2025-10-23T15:56:33.719483Z",
     "start_time": "2025-10-23T15:56:28.673025Z"
    }
   },
   "source": "messages_out_trim = graph.invoke({'messages': messages})",
   "outputs": [],
   "execution_count": 57
  },
  {
   "cell_type": "markdown",
   "id": "38b3db67-380e-46b5-9a6a-20100ba52008",
   "metadata": {},
   "source": [
    "Let's look at the LangSmith trace to see the model invocation:\n",
    "\n",
    "https://smith.langchain.com/public/53c5cb38-5f36-4f60-b20e-5ba5d951f54d/r"
   ]
  }
 ],
 "metadata": {
  "kernelspec": {
   "display_name": "Python 3 (ipykernel)",
   "language": "python",
   "name": "python3"
  },
  "language_info": {
   "codemirror_mode": {
    "name": "ipython",
    "version": 3
   },
   "file_extension": ".py",
   "mimetype": "text/x-python",
   "name": "python",
   "nbconvert_exporter": "python",
   "pygments_lexer": "ipython3",
   "version": "3.12.1"
  }
 },
 "nbformat": 4,
 "nbformat_minor": 5
}
