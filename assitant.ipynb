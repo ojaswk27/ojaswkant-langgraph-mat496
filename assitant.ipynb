{
 "cells": [
  {
   "metadata": {},
   "cell_type": "markdown",
   "source": [
    "# Code Explainer Assistant with LangGraph (Anthropic Version)\n",
    "\n",
    "This notebook builds a chatbot that explains, debugs, and runs simple code snippets (Python-focused, with assembly notes). It uses:\n",
    "- **State**: Tracks messages and code results.\n",
    "- **Tools**: For code execution and basic syntax checks.\n",
    "- **Router**: Decides if tool needed or direct explain.\n",
    "- **Agent Loop**: ReAct-style for follow-ups (e.g., \"fix this error\").\n",
    "- **Memory**: Persists across turns via checkpointer.\n",
    "\n",
    "Test with queries like: \"Explain this Python loop\" or \"Run: print(2+2)\" or \"Debug: for i in range(5): print(i/0)\".\n"
   ],
   "id": "847f40c70ffc3a3"
  },
  {
   "metadata": {
    "ExecuteTime": {
     "end_time": "2025-10-16T17:03:16.320653Z",
     "start_time": "2025-10-16T17:03:16.315445Z"
    }
   },
   "cell_type": "code",
   "source": [
    "from dotenv import load_dotenv\n",
    "import os\n",
    "\n",
    "# Load environment variables from .env file\n",
    "load_dotenv()\n",
    "\n",
    "# Check if the key is loaded\n",
    "print(\"Anthropic key loaded:\", os.getenv(\"ANTHROPIC_API_KEY\") is not None)\n"
   ],
   "id": "afbc9e6aaee7ca37",
   "outputs": [
    {
     "name": "stdout",
     "output_type": "stream",
     "text": [
      "Anthropic key loaded: True\n"
     ]
    }
   ],
   "execution_count": 10
  },
  {
   "metadata": {},
   "cell_type": "markdown",
   "source": "",
   "id": "f1f4675cf435ba55"
  },
  {
   "cell_type": "code",
   "id": "initial_id",
   "metadata": {
    "collapsed": true,
    "ExecuteTime": {
     "end_time": "2025-10-16T17:03:18.080219Z",
     "start_time": "2025-10-16T17:03:18.073533Z"
    }
   },
   "source": [
    "from typing import Annotated, TypedDict\n",
    "from langgraph.graph import StateGraph, END\n",
    "from langgraph.checkpoint.memory import MemorySaver\n",
    "from langchain_anthropic import ChatAnthropic  # Anthropic LLM\n",
    "from langchain_core.messages import HumanMessage, AIMessage, SystemMessage\n",
    "from langchain_core.tools import tool\n",
    "from langchain_experimental.utilities import PythonREPL  # For safe code execution\n",
    "from operator import add\n",
    "import operator\n",
    "\n",
    "# Setup LLM with Anthropic (replace model if needed; requires ANTHROPIC_API_KEY env var)\n",
    "llm = ChatAnthropic(model=\"claude-sonnet-4-20250514\", temperature=0)\n",
    "checkpointer = MemorySaver()  # Enables memory\n",
    "\n",
    "# System prompt for code focus\n",
    "system_prompt = SystemMessage(content=\"You are a code explainer. Explain clearly, suggest fixes for bugs, and use tools only when needed (e.g., for execution). Handle Python and basic assembly.\")\n"
   ],
   "outputs": [],
   "execution_count": 11
  },
  {
   "metadata": {},
   "cell_type": "markdown",
   "source": [
    "## Step 1: Agent State\n",
    "\n",
    "The state holds chat messages (appended via reducer) and a 'code_result' field to store outputs from tools, preventing overwrites.\n"
   ],
   "id": "d605a802b4d238b"
  },
  {
   "metadata": {
    "ExecuteTime": {
     "end_time": "2025-10-16T17:03:19.857746Z",
     "start_time": "2025-10-16T17:03:19.852406Z"
    }
   },
   "cell_type": "code",
   "source": [
    "class AgentState(TypedDict):\n",
    "    messages: Annotated[list, add]  # Accumulates conversation\n",
    "    code_result: Annotated[str, operator.add]  # Stores code outputs (string for simplicity)\n"
   ],
   "id": "bb506861421eebc7",
   "outputs": [],
   "execution_count": 12
  },
  {
   "metadata": {},
   "cell_type": "markdown",
   "source": [
    "## Step 2: Tools\n",
    "\n",
    "- `run_python_code`: Safely executes Python snippets in a REPL (limited scope for safety).\n",
    "- `explain_syntax`: A simple tool to break down code syntax (LLM-bound, but as a function for demo).\n",
    "\n",
    "These are bound to the LLM so it decides when to call them.\n"
   ],
   "id": "7147f52e5ea4ab9f"
  },
  {
   "metadata": {
    "ExecuteTime": {
     "end_time": "2025-10-16T17:03:21.689191Z",
     "start_time": "2025-10-16T17:03:21.660571Z"
    }
   },
   "cell_type": "code",
   "source": [
    "# Tool 1: Execute Python code safely\n",
    "python_repl = PythonREPL()\n",
    "\n",
    "@tool\n",
    "def run_python_code(code: str) -> str:\n",
    "    \"\"\"Run a Python code snippet and return the output or error.\"\"\"\n",
    "    try:\n",
    "        result = python_repl.run(code)\n",
    "        return f\"Output: {result}\"\n",
    "    except Exception as e:\n",
    "        return f\"Error: {str(e)}\"\n",
    "\n",
    "# Tool 2: Basic syntax explainer (custom function; LLM can call if needed)\n",
    "@tool\n",
    "def explain_syntax(code: str, language: str = \"python\") -> str:\n",
    "    \"\"\"Explain the syntax of a code snippet. Language: python or assembly.\"\"\"\n",
    "    if language == \"assembly\":\n",
    "        return f\"Assembly note: {code} - This is low-level; e.g., in MIPS, 'add $t0, $t1, $t2' adds registers.\"\n",
    "    return f\"Python syntax for '{code}': Breaks down structure, variables, and flow.\"\n",
    "\n",
    "tools = [run_python_code, explain_syntax]\n",
    "llm_with_tools = llm.bind_tools(tools)\n"
   ],
   "id": "de04e7f196333aee",
   "outputs": [],
   "execution_count": 13
  },
  {
   "metadata": {},
   "cell_type": "markdown",
   "source": [
    "## Step 3: Nodes\n",
    "\n",
    "- `agent`: LLM processes input, decides on explanation or tool call.\n",
    "- `tools`: Executes bound tools and updates state with results.\n"
   ],
   "id": "84e122cbd5e3bf88"
  },
  {
   "metadata": {
    "ExecuteTime": {
     "end_time": "2025-10-16T17:03:24.152716Z",
     "start_time": "2025-10-16T17:03:24.146636Z"
    }
   },
   "cell_type": "code",
   "source": [
    "def agent(state: AgentState):\n",
    "    # Prepend system prompt if first message\n",
    "    if not state[\"messages\"]:\n",
    "        state[\"messages\"].insert(0, system_prompt)\n",
    "\n",
    "    # LLM invocation with tools (Anthropic handles tool calls)\n",
    "    msg = llm_with_tools.invoke(state[\"messages\"])\n",
    "    return {\n",
    "        \"messages\": [msg],\n",
    "        \"code_result\": state.get(\"code_result\", \"\")\n",
    "    }\n",
    "\n",
    "from langgraph.prebuilt import ToolNode\n",
    "tool_node = ToolNode(tools)  # Auto-executes tool calls\n"
   ],
   "id": "1eec4ecf4e454248",
   "outputs": [],
   "execution_count": 14
  },
  {
   "metadata": {},
   "cell_type": "markdown",
   "source": [
    "## Step 4: Router (Conditional Edge)\n",
    "\n",
    "Simple decision: If LLM output has tool calls, route to `tools`; else, end with explanation.\n"
   ],
   "id": "d361c6b1ae665e9c"
  },
  {
   "metadata": {
    "ExecuteTime": {
     "end_time": "2025-10-16T17:03:26.307627Z",
     "start_time": "2025-10-16T17:03:26.303484Z"
    }
   },
   "cell_type": "code",
   "source": [
    "def should_continue(state: AgentState):\n",
    "    last_msg = state[\"messages\"][-1]\n",
    "    if last_msg.tool_calls:\n",
    "        return \"tools\"  # Continue to tools\n",
    "    return END  # Final response (explanation)\n"
   ],
   "id": "4a9f4b0e7d906d28",
   "outputs": [],
   "execution_count": 15
  },
  {
   "metadata": {},
   "cell_type": "markdown",
   "source": [
    "## Step 5: Build the Graph\n",
    "\n",
    "Chain: Entry to agent.\n",
    "Router: Conditional from agent.\n",
    "Loop: Tools back to agent (ReAct for iterations, e.g., debug loop).\n",
    "Memory: Compile with checkpointer.\n"
   ],
   "id": "374cf2c46af72cca"
  },
  {
   "metadata": {
    "ExecuteTime": {
     "end_time": "2025-10-16T17:03:27.934175Z",
     "start_time": "2025-10-16T17:03:27.926118Z"
    }
   },
   "cell_type": "code",
   "source": [
    "graph = StateGraph(state_schema=AgentState)\n",
    "\n",
    "# Add nodes\n",
    "graph.add_node(\"agent\", agent)\n",
    "graph.add_node(\"tools\", tool_node)\n",
    "\n",
    "# Edges\n",
    "graph.set_entry_point(\"agent\")\n",
    "graph.add_conditional_edges(\"agent\", should_continue, {\"tools\": \"tools\", END: END})\n",
    "graph.add_edge(\"tools\", \"agent\")  # Loop for observation/refinement\n",
    "\n",
    "# Compile with memory\n",
    "app = graph.compile(checkpointer=checkpointer)\n"
   ],
   "id": "d7aef93c1b6f9920",
   "outputs": [],
   "execution_count": 16
  },
  {
   "metadata": {},
   "cell_type": "markdown",
   "source": [
    "## Step 6: Usage\n",
    "\n",
    "Invoke with a config (thread_id for memory). Test single-turn and multi-turn.\n",
    "\n",
    "- Single: Explain a loop.\n",
    "- Multi: Run code, then \"What's wrong?\" (remembers output).\n"
   ],
   "id": "5edc27dd14398e56"
  },
  {
   "metadata": {
    "ExecuteTime": {
     "end_time": "2025-10-16T17:04:31.824794Z",
     "start_time": "2025-10-16T17:04:05.780928Z"
    }
   },
   "cell_type": "code",
   "source": [
    "# Config for session (use same thread_id for memory)\n",
    "config = {\"configurable\": {\"thread_id\": \"code_explain_session_1\"}}\n",
    "\n",
    "# Example 1: Simple explanation (no tool)\n",
    "input_explain = {\n",
    "    \"messages\": [HumanMessage(content=\"Explain: for i in range(3): print(i)\")]\n",
    "}\n",
    "output_explain = app.invoke(input_explain, config)\n",
    "print(\"Explanation:\", output_explain[\"messages\"][-1].content)\n",
    "\n",
    "# Example 2: Run code (triggers tool)\n",
    "input_run = {\n",
    "    \"messages\": [HumanMessage(content=\"Run this Python: x = 5; y = x * 2; print(y)\")]\n",
    "}\n",
    "output_run = app.invoke(input_run, config)\n",
    "print(\"Run Result:\", output_run[\"messages\"][-1].content)\n",
    "print(\"Stored Result:\", output_run[\"code_result\"])\n",
    "\n",
    "# Example 3: Multi-turn debug (memory loads prior)\n",
    "input_debug = {\n",
    "    \"messages\": [HumanMessage(content=\"Debug why it errored and fix it.\")]  # Refers to previous if any\n",
    "}\n",
    "output_debug = app.invoke(input_debug, config)\n",
    "print(\"Debug:\", output_debug[\"messages\"][-1].content)\n",
    "\n",
    "# Assembly example\n",
    "input_assembly = {\n",
    "    \"messages\": [HumanMessage(content=\"Explain MIPS assembly: add $t0, $t1, $t2\")]\n",
    "}\n",
    "output_assembly = app.invoke(input_assembly, config)\n",
    "print(\"Assembly Explain:\", output_assembly[\"messages\"][-1].content)\n"
   ],
   "id": "3872b7d4a172a086",
   "outputs": [
    {
     "name": "stdout",
     "output_type": "stream",
     "text": [
      "Explanation: Let me provide a detailed explanation of this Python code:\n",
      "\n",
      "**`for i in range(3): print(i)`**\n",
      "\n",
      "This is a **for loop** that consists of several parts:\n",
      "\n",
      "1. **`for`** - The keyword that starts a for loop\n",
      "2. **`i`** - The loop variable (iterator) that takes on different values in each iteration\n",
      "3. **`in`** - Keyword indicating membership/iteration\n",
      "4. **`range(3)`** - A function that generates a sequence of numbers from 0 to 2 (3 is exclusive)\n",
      "5. **`:`** - Colon that marks the end of the for loop header\n",
      "6. **`print(i)`** - The body of the loop that executes for each iteration\n",
      "\n",
      "**How it works:**\n",
      "- `range(3)` creates a sequence: [0, 1, 2]\n",
      "- In the first iteration, `i = 0`, so `print(i)` outputs `0`\n",
      "- In the second iteration, `i = 1`, so `print(i)` outputs `1`\n",
      "- In the third iteration, `i = 2`, so `print(i)` outputs `2`\n",
      "- After 3 iterations, the loop ends\n",
      "\n",
      "**Output:**\n",
      "```\n",
      "0\n",
      "1\n",
      "2\n",
      "```\n",
      "\n",
      "This is a common pattern for repeating an action a specific number of times in Python.\n",
      "Run Result: The code executed successfully and printed `10`.\n",
      "\n",
      "Here's what happened:\n",
      "1. `x = 5` - assigns the value 5 to variable x\n",
      "2. `y = x * 2` - multiplies x (which is 5) by 2, so y becomes 10\n",
      "3. `print(y)` - outputs the value of y, which is 10\n",
      "Stored Result: \n",
      "Debug: I don't see any error in the previous code execution. The Python code `x = 5; y = x * 2; print(y)` ran successfully and output `10` as expected.\n",
      "\n",
      "Could you clarify what error you're referring to? \n",
      "\n",
      "- Are you seeing a different error when you run this code in your environment?\n",
      "- Or are you asking me to run a different piece of code that has an error?\n",
      "- Or perhaps you meant to provide a different code snippet that needs debugging?\n",
      "\n",
      "Please share the specific code that's causing an error, and I'll be happy to help debug and fix it!\n",
      "Assembly Explain: Let me provide a detailed explanation of this MIPS assembly instruction:\n",
      "\n",
      "**`add $t0, $t1, $t2`**\n",
      "\n",
      "This is a MIPS assembly instruction that performs integer addition:\n",
      "\n",
      "**Components:**\n",
      "1. **`add`** - The operation mnemonic (instruction name) for addition\n",
      "2. **`$t0`** - The destination register where the result will be stored\n",
      "3. **`$t1`** - The first source register (first operand)\n",
      "4. **`$t2`** - The second source register (second operand)\n",
      "\n",
      "**Operation:**\n",
      "- Takes the value in register `$t1`\n",
      "- Adds it to the value in register `$t2`\n",
      "- Stores the result in register `$t0`\n",
      "\n",
      "**In mathematical terms:** `$t0 = $t1 + $t2`\n",
      "\n",
      "**Register Information:**\n",
      "- `$t0`, `$t1`, `$t2` are temporary registers in MIPS\n",
      "- `$t0` corresponds to register 8, `$t1` to register 9, `$t2` to register 10\n",
      "- These are general-purpose registers used for temporary storage during computation\n",
      "\n",
      "**Example:**\n",
      "If `$t1` contains the value 5 and `$t2` contains the value 3, then after executing this instruction, `$t0` would contain 8.\n",
      "\n",
      "This is a fundamental arithmetic instruction in MIPS assembly language programming.\n"
     ]
    }
   ],
   "execution_count": 18
  }
 ],
 "metadata": {
  "kernelspec": {
   "display_name": "Python 3",
   "language": "python",
   "name": "python3"
  },
  "language_info": {
   "codemirror_mode": {
    "name": "ipython",
    "version": 2
   },
   "file_extension": ".py",
   "mimetype": "text/x-python",
   "name": "python",
   "nbconvert_exporter": "python",
   "pygments_lexer": "ipython2",
   "version": "2.7.6"
  }
 },
 "nbformat": 4,
 "nbformat_minor": 5
}
